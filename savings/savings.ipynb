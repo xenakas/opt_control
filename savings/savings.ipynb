{
 "cells": [
  {
   "cell_type": "markdown",
   "metadata": {},
   "source": [
    "The article elaborates on the issue of\n",
    "household savings in Ukraine and investigates the most\n",
    "significant macroeconomic indicators that influence their\n",
    "formation. The research also focuses on testing the\n",
    "hypothesis of structural breaks in formation of household\n",
    "savings in Ukraine after the World financial crisis.\n",
    "Formation process of household savings was studied with\n",
    "using the econometric modeling, particularly a multiple\n",
    "linear regression model with an error correction term.\n",
    "Estimated model demonstrated adequacy, stability as well\n",
    "as good performance and could be used for forecasting.\n",
    "Our results showed that household consumption\n",
    "expenditures and gross national income were the most\n",
    "significant macroeconomic determinants of household\n",
    "savings in Ukraine. In contrast to expectations, hypothesis\n",
    "testing indicated structural break in formation of\n",
    "household savings in Ukraine only in 2010. "
   ]
  },
  {
   "cell_type": "markdown",
   "metadata": {},
   "source": [
    "In order to investigate the most influential factors that determine household savings\n",
    "formation in Ukraine a tool of econometric modeling is used. Particularly, we have\n",
    "constructed multiple linear regression model with error correction term or error correction\n",
    "model (ECM). This approach was firstly applied by Sargan (1964). Such type of econometric\n",
    "model is usually used in macroeconomic data analysis because it can help to avoid estimation\n",
    "of spurious regression based on non-stationary datasets. As usual most of macroeconomic\n",
    "indicators time-series are non-stationary, for example gross domestic product, consumption\n",
    "and income series almost always have trend. Moreover, Narayan and Narayan (2006) as well\n",
    "as Jongwanich (2010) suggest that ECM is suitable for small sample research and\n",
    "Nwanchukwu and Egwaikhide (2007) claim that this approach can be effective tool for saving\n",
    "forecasting. We have also applied this method as it is widely used in most of aforementioned\n",
    "studies of household saving.\n",
    "Estimation and diagnostics of our ECM has been carried out with the help of method\n",
    "introduced by Engle and Granger (1987) in Eviews 7.1 software. "
   ]
  },
  {
   "cell_type": "markdown",
   "metadata": {},
   "source": [
    "The first step of Engle-Granger method is as follows:\n",
    "• testing of time-series of all variables for being of the same order of integration;\n",
    "• estimation of cointegretion regression with ordinary least squares method;\n",
    "• finding of cointegretion regression residuals and their testing for stationarity.\n",
    "On the second step of Engle-Granger method error correction model is finally\n",
    "estimated.\n",
    "Unfortunately, there is not enough reliable statistical data of household savings in\n",
    "Ukraine at macroeconomic level for sufficient econometric research. Such data limitation is\n",
    "common for papers, which analyze Ukrainian data. However, it is possible to use another\n",
    "aggregated macroeconomic indicator, which includes household savings, namely gross\n",
    "domestic savings (GDS). It is calculated as the difference between gross domestic product and\n",
    "total consumption. One of the main issues related with the use of this proxy is connected with\n",
    "the fact that GDS includes savings of other sectors of economy. In the worst case, influence of\n",
    "other sectors may bias the results of research by increasing significance of factors that are\n",
    "insignificant for household saving, but are significant for other sectors’ saving.\n",
    "According to Schmidt-Hebbel, Webb and Corsetti (1992) total saving of all sectors of\n",
    "economy can be a good proxy of household saving behavior, if latter is perfect substitute for\n",
    "both corporate and public sectors saving. Such substitutability is possible, when assuming that\n",
    "Ricardian equivalence holds. They also point out that most empirical work on saving in\n",
    "developing countries has used only aggregated data for saving due to lack of reliable sources.\n",
    "For instance, aggregated national saving data has been already used as a proxy of household\n",
    "saving in Fry (1980), Giovanni (1985), Gupta (1987), Zhuk and Zdrok (2014a) and so forth.\n",
    "Hence, dependent variable in our research is y – gross domestic savings, bln. USD.\n",
    "During the analysis of factors that have influence on formation of GDS, the following\n",
    "significant exogenous variables have been determined: x1 – household consumption\n",
    "expenditures, bln. USD; x2 – gross national income, bln. USD.\n",
    "Statistical data used for the research has been obtained from World Bank database\n",
    "(mode of access: http://databank.worldbank.org/) and covers period from 1992 to 2013, which\n",
    "is 22 years. "
   ]
  },
  {
   "cell_type": "markdown",
   "metadata": {},
   "source": [
    "Before estimation of the model it is important to check whether data is stationary. For\n",
    "this reason we have used augmented Dickey-Fuller (ADF) test suggested by Dickey and\n",
    "Fuller (1979). The results of ADF unit-root test are presented in Table 1. "
   ]
  },
  {
   "cell_type": "markdown",
   "metadata": {},
   "source": [
    "The null hypothesis of the test states that there is unit root in time-series, while\n",
    "alternative hypothesis asserts that there is no unit-root in data. The empirical values of ADF\n",
    "test statistics for level values of all variable (gross domestic savings, household consumption\n",
    "expenditures, gross national income) are higher than their critical values and their probability\n",
    "values are higher than 0.05. Therefore, the null hypothesis can not be rejected. It means that\n",
    "with 95% confidence probability level values of all variables are not stationary.\n",
    "On the contrary, the ADF test of differenced values of our variables rejects the null\n",
    "hypothesis of the presence of a unit root in differenced data. Since empirical values of ADF tStatistics are lower than their critical values, the null hypothesis can be rejected with 95%\n",
    "confidence probability. Thus, there is no unit root in first differences of gross domestic\n",
    "savings, household consumption expenditures and gross national income.\n",
    "Summing up the results of augmented Dickey-Fuller test, we have found out that the\n",
    "time series of all variables are non-stationary at their levels. However, their first differences\n",
    "are stationary, which means that all variables are of the first order of integration. "
   ]
  }
 ],
 "metadata": {
  "kernelspec": {
   "display_name": "Python 3",
   "language": "python",
   "name": "python3"
  },
  "language_info": {
   "codemirror_mode": {
    "name": "ipython",
    "version": 3
   },
   "file_extension": ".py",
   "mimetype": "text/x-python",
   "name": "python",
   "nbconvert_exporter": "python",
   "pygments_lexer": "ipython3",
   "version": "3.6.5"
  }
 },
 "nbformat": 4,
 "nbformat_minor": 2
}
