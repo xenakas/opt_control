{
 "cells": [
  {
   "cell_type": "code",
   "execution_count": null,
   "metadata": {},
   "outputs": [],
   "source": [
    "library(xml2)"
   ]
  },
  {
   "cell_type": "code",
   "execution_count": 5,
   "metadata": {},
   "outputs": [
    {
     "name": "stderr",
     "output_type": "stream",
     "text": [
      "\n",
      "Attaching package: ‘dplyr’\n",
      "\n",
      "The following objects are masked from ‘package:stats’:\n",
      "\n",
      "    filter, lag\n",
      "\n",
      "The following objects are masked from ‘package:base’:\n",
      "\n",
      "    intersect, setdiff, setequal, union\n",
      "\n"
     ]
    }
   ],
   "source": [
    "library(dplyr)"
   ]
  },
  {
   "cell_type": "code",
   "execution_count": 2,
   "metadata": {},
   "outputs": [],
   "source": [
    "data <- read_xml(\"data_m.xml\")"
   ]
  },
  {
   "cell_type": "code",
   "execution_count": 3,
   "metadata": {},
   "outputs": [
    {
     "data": {
      "text/plain": [
       "{xml_document}\n",
       "<GenericData schemaLocation=\"http://www.SDMX.org/resources/SDMXML/schemas/v1_0/message SDMXMessage.xsd\" xmlns=\"http://www.SDMX.org/resources/SDMXML/schemas/v1_0/message\" xmlns:common=\"http://www.SDMX.org/resources/SDMXML/schemas/v1_0/common\" xmlns:compact=\"http://www.SDMX.org/resources/SDMXML/schemas/v1_0/compact\" xmlns:cross=\"http://www.SDMX.org/resources/SDMXML/schemas/v1_0/cross\" xmlns:generic=\"http://www.SDMX.org/resources/SDMXML/schemas/v1_0/generic\" xmlns:query=\"http://www.SDMX.org/resources/SDMXML/schemas/v1_0/query\" xmlns:structure=\"http://www.SDMX.org/resources/SDMXML/schemas/v1_0/structure\" xmlns:utility=\"http://www.SDMX.org/resources/SDMXML/schemas/v1_0/utility\" xmlns:xsi=\"http://www.w3.org/2001/XMLSchema-instance\">\n",
       "[1] <Header Id=\"singHead\">\\n  <ID>-2044276659</ID>\\n  <Test>false</Test>\\n  < ...\n",
       "[2] <CodeLists>\\n  <structure:CodeList id=\"sm\">\\n    <structure:Name xml:lang ...\n",
       "[3] <Description Id=\"signObj\">\\n  <Indicator id=\"33559\" name=\"Число зарегистр ...\n",
       "[4] <DataSet>\\n  <generic:Series>\\n    <generic:SeriesKey>\\n      <generic:Va ..."
      ]
     },
     "metadata": {},
     "output_type": "display_data"
    }
   ],
   "source": [
    "data"
   ]
  },
  {
   "cell_type": "code",
   "execution_count": 6,
   "metadata": {},
   "outputs": [],
   "source": [
    "point <- data %>% xml_find_all(\"DataSet\")"
   ]
  },
  {
   "cell_type": "code",
   "execution_count": 7,
   "metadata": {},
   "outputs": [
    {
     "data": {
      "text/plain": [
       "{xml_nodeset (0)}"
      ]
     },
     "metadata": {},
     "output_type": "display_data"
    }
   ],
   "source": [
    "point"
   ]
  },
  {
   "cell_type": "code",
   "execution_count": 8,
   "metadata": {},
   "outputs": [],
   "source": [
    "# Load the packages required to read XML files.\n",
    "library(\"XML\")\n",
    "library(\"methods\")"
   ]
  },
  {
   "cell_type": "code",
   "execution_count": 11,
   "metadata": {},
   "outputs": [],
   "source": [
    "data <- xmlParse(\"data_m.xml\")\n",
    "xml_data <- xmlToList(data)"
   ]
  },
  {
   "cell_type": "code",
   "execution_count": null,
   "metadata": {},
   "outputs": [],
   "source": []
  }
 ],
 "metadata": {
  "kernelspec": {
   "display_name": "R 3.5.1",
   "language": "R",
   "name": "ir"
  },
  "language_info": {
   "codemirror_mode": "r",
   "file_extension": ".r",
   "mimetype": "text/x-r-source",
   "name": "R",
   "pygments_lexer": "r",
   "version": "3.5.1"
  }
 },
 "nbformat": 4,
 "nbformat_minor": 2
}
