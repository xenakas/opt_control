{
 "cells": [
  {
   "cell_type": "code",
   "execution_count": 2,
   "metadata": {
    "ExecuteTime": {
     "end_time": "2019-09-28T12:50:05.029444Z",
     "start_time": "2019-09-28T12:50:04.966Z"
    }
   },
   "outputs": [],
   "source": [
    "library(RSelenium)\n",
    "library(XML)\n",
    "library(janitor) \n",
    "library(lubridate)\n",
    "library(magrittr)\n",
    "library(dplyr)\n",
    "library(xlsx)"
   ]
  },
  {
   "cell_type": "code",
   "execution_count": 3,
   "metadata": {
    "ExecuteTime": {
     "end_time": "2019-09-28T12:50:13.361652Z",
     "start_time": "2019-09-28T12:50:13.311Z"
    }
   },
   "outputs": [],
   "source": [
    "remDr <- remoteDriver(\n",
    "  port = 4445L\n",
    ")"
   ]
  },
  {
   "cell_type": "code",
   "execution_count": 4,
   "metadata": {
    "ExecuteTime": {
     "end_time": "2019-09-28T12:50:18.161435Z",
     "start_time": "2019-09-28T12:50:14.573Z"
    }
   },
   "outputs": [
    {
     "name": "stdout",
     "output_type": "stream",
     "text": [
      "[1] \"Connecting to remote server\"\n",
      "$applicationCacheEnabled\n",
      "[1] TRUE\n",
      "\n",
      "$rotatable\n",
      "[1] FALSE\n",
      "\n",
      "$handlesAlerts\n",
      "[1] TRUE\n",
      "\n",
      "$databaseEnabled\n",
      "[1] TRUE\n",
      "\n",
      "$version\n",
      "[1] \"45.0.2\"\n",
      "\n",
      "$platform\n",
      "[1] \"LINUX\"\n",
      "\n",
      "$nativeEvents\n",
      "[1] FALSE\n",
      "\n",
      "$acceptSslCerts\n",
      "[1] TRUE\n",
      "\n",
      "$webdriver.remote.sessionid\n",
      "[1] \"5ba293c2-ae78-466e-a6b0-21c459de398d\"\n",
      "\n",
      "$webStorageEnabled\n",
      "[1] TRUE\n",
      "\n",
      "$locationContextEnabled\n",
      "[1] TRUE\n",
      "\n",
      "$browserName\n",
      "[1] \"firefox\"\n",
      "\n",
      "$takesScreenshot\n",
      "[1] TRUE\n",
      "\n",
      "$javascriptEnabled\n",
      "[1] TRUE\n",
      "\n",
      "$cssSelectorsEnabled\n",
      "[1] TRUE\n",
      "\n",
      "$id\n",
      "[1] \"5ba293c2-ae78-466e-a6b0-21c459de398d\"\n",
      "\n"
     ]
    }
   ],
   "source": [
    "remDr$open()# Now open TightVNC to follow along with Selenium driving the browser. Set 192.168.99.100:5901 and password: secret# navigate to the main page\n",
    "# remDr$navigate(\"https://docs.google.com/spreadsheets/d/1o1PlLIQS8v-XSuEz1eqZB80kcJk9xg5lsbueB7mTg1U/pub?output=html&widget=true#gid=690408156\")# https://docs.google.com/spreadsheets/d/1o1PlLIQS8v-XSuEz1eqZB80kcJk9xg5lsbueB7mTg1U/pub?output=html&widget=true#gid=552987877# look for table element"
   ]
  },
  {
   "cell_type": "code",
   "execution_count": 5,
   "metadata": {
    "ExecuteTime": {
     "end_time": "2019-09-28T12:51:08.331447Z",
     "start_time": "2019-09-28T12:50:55.194Z"
    }
   },
   "outputs": [],
   "source": [
    "remDr$navigate(\"http://zakupki.gov.ru/epz/main/public/home.html\")\n"
   ]
  },
  {
   "cell_type": "code",
   "execution_count": 13,
   "metadata": {
    "ExecuteTime": {
     "end_time": "2019-09-28T12:53:00.322085Z",
     "start_time": "2019-09-28T12:53:00.288Z"
    }
   },
   "outputs": [],
   "source": [
    "library(\"readxl\")"
   ]
  },
  {
   "cell_type": "code",
   "execution_count": null,
   "metadata": {
    "ExecuteTime": {
     "end_time": "2019-09-28T12:53:00.746192Z",
     "start_time": "2019-09-28T12:53:00.608Z"
    }
   },
   "outputs": [],
   "source": [
    "goszak_df = read_excel('/media/xenakas/ext4_drive/data_goszak/goszak_df.xlsx') #, header=TRUE, colClasses=NA)"
   ]
  },
  {
   "cell_type": "code",
   "execution_count": 14,
   "metadata": {
    "ExecuteTime": {
     "end_time": "2019-09-28T12:53:01.254185Z",
     "start_time": "2019-09-28T12:53:01.051Z"
    }
   },
   "outputs": [],
   "source": [
    "goszak_df = goszak_df  %>% clean_names()"
   ]
  },
  {
   "cell_type": "code",
   "execution_count": null,
   "metadata": {
    "ExecuteTime": {
     "end_time": "2019-09-28T12:53:01.660603Z",
     "start_time": "2019-09-28T12:53:01.644Z"
    }
   },
   "outputs": [],
   "source": [
    "goszak_df  %>%  colnames()"
   ]
  },
  {
   "cell_type": "code",
   "execution_count": 15,
   "metadata": {
    "ExecuteTime": {
     "end_time": "2019-09-28T12:53:02.525429Z",
     "start_time": "2019-09-28T12:53:02.497Z"
    }
   },
   "outputs": [],
   "source": [
    "# goszak_df"
   ]
  },
  {
   "cell_type": "code",
   "execution_count": 17,
   "metadata": {
    "ExecuteTime": {
     "end_time": "2019-09-28T12:53:10.006131Z",
     "start_time": "2019-09-28T12:53:09.965Z"
    }
   },
   "outputs": [],
   "source": [
    "goszak_df_kolich = goszak_df  %>%  select('index_name', 'purchase_number', 'completed_car_purchase',  'price', 'auction',  'колич_авто_в_закупке')"
   ]
  },
  {
   "cell_type": "code",
   "execution_count": 18,
   "metadata": {
    "ExecuteTime": {
     "end_time": "2019-09-28T12:53:12.791535Z",
     "start_time": "2019-09-28T12:53:12.754Z"
    }
   },
   "outputs": [
    {
     "data": {
      "text/html": [
       "'character'"
      ],
      "text/latex": [
       "'character'"
      ],
      "text/markdown": [
       "'character'"
      ],
      "text/plain": [
       "[1] \"character\""
      ]
     },
     "metadata": {},
     "output_type": "display_data"
    }
   ],
   "source": [
    "typeof(goszak_df_kolich[[1,2]])"
   ]
  },
  {
   "cell_type": "markdown",
   "metadata": {},
   "source": [
    "#### Parse auction"
   ]
  },
  {
   "cell_type": "code",
   "execution_count": 19,
   "metadata": {
    "ExecuteTime": {
     "end_time": "2019-09-28T12:53:26.236208Z",
     "start_time": "2019-09-28T12:53:26.198Z"
    }
   },
   "outputs": [],
   "source": [
    "table_auction = data.frame(matrix(NA, nrow = 0, ncol = 3))\n",
    "colnames(table_auction) = c('V1','V2','V3') "
   ]
  },
  {
   "cell_type": "code",
   "execution_count": 20,
   "metadata": {
    "ExecuteTime": {
     "end_time": "2019-09-28T12:53:26.809122Z",
     "start_time": "2019-09-28T12:53:26.774Z"
    }
   },
   "outputs": [
    {
     "data": {
      "text/html": [
       "<table>\n",
       "<thead><tr><th scope=col>V1</th><th scope=col>V2</th><th scope=col>V3</th></tr></thead>\n",
       "<tbody>\n",
       "</tbody>\n",
       "</table>\n"
      ],
      "text/latex": [
       "\\begin{tabular}{r|lll}\n",
       " V1 & V2 & V3\\\\\n",
       "\\hline\n",
       "\\end{tabular}\n"
      ],
      "text/markdown": [
       "\n",
       "V1 | V2 | V3 | \n",
       "||\n",
       "\n",
       "\n"
      ],
      "text/plain": [
       "     V1 V2 V3"
      ]
     },
     "metadata": {},
     "output_type": "display_data"
    }
   ],
   "source": [
    "table_auction"
   ]
  },
  {
   "cell_type": "code",
   "execution_count": 135,
   "metadata": {
    "ExecuteTime": {
     "end_time": "2019-09-25T12:18:48.223136Z",
     "start_time": "2019-09-25T12:18:48.196Z"
    }
   },
   "outputs": [],
   "source": [
    "tables_list  <-  list()"
   ]
  },
  {
   "cell_type": "code",
   "execution_count": 21,
   "metadata": {
    "ExecuteTime": {
     "end_time": "2019-09-28T12:55:10.887956Z",
     "start_time": "2019-09-28T12:55:09.973Z"
    }
   },
   "outputs": [],
   "source": [
    "webElem <- remDr$findElement(using = \"css\", \"#quickSearchForm_header_searchString\")\n",
    "webElem$highlightElement()"
   ]
  },
  {
   "cell_type": "code",
   "execution_count": 22,
   "metadata": {
    "ExecuteTime": {
     "end_time": "2019-09-28T12:55:51.565297Z",
     "start_time": "2019-09-28T12:55:43.297Z"
    }
   },
   "outputs": [
    {
     "ename": "ERROR",
     "evalue": "Error in eval(expr, envir, enclos): object 'tables_list' not found\n",
     "output_type": "error",
     "traceback": [
      "Error in eval(expr, envir, enclos): object 'tables_list' not found\nTraceback:\n"
     ]
    }
   ],
   "source": [
    "for (i in 1){\n",
    "    remDr$navigate(\"http://zakupki.gov.ru/epz/main/public/home.html\")\n",
    "    Sys.sleep(2)\n",
    "    webElem <- remDr$findElement(using = \"css\", \"#quickSearchForm_header_searchString\")\n",
    "    # webElem$highlightElement()\n",
    "    webElem$sendKeysToElement(list(goszak_df_kolich[[i,2]], key = \"enter\"))\n",
    "    doc <- htmlParse(remDr$getPageSource()[[1]])\n",
    "    table_tmp <- readHTMLTable(doc)\n",
    "    tables_list[[i]] = table_tmp$'NULL'\n",
    "    Sys.sleep(2)\n",
    "}"
   ]
  },
  {
   "cell_type": "code",
   "execution_count": 186,
   "metadata": {
    "ExecuteTime": {
     "end_time": "2019-09-25T12:53:10.412354Z",
     "start_time": "2019-09-25T12:53:10.381Z"
    }
   },
   "outputs": [],
   "source": [
    "collecting_auctions  <- function(tables_list){\n",
    "    if (length(tables_list)>dim(goszak_df_kolich)[1]){print(2500)}\n",
    "    else{\n",
    "    for (i in (length(tables_list) + 1):dim(goszak_df_kolich)[1]){\n",
    "        remDr$navigate(\"http://zakupki.gov.ru/epz/main/public/home.html\")\n",
    "        Sys.sleep(2)\n",
    "        webElem <- remDr$findElement(using = \"css\", \"#quickSearchForm_header_searchString\")\n",
    "        # webElem$highlightElement()\n",
    "        webElem$sendKeysToElement(list(goszak_df_kolich[[i,2]], key = \"enter\"))\n",
    "        doc <- htmlParse(remDr$getPageSource()[[1]])\n",
    "        table_tmp <- readHTMLTable(doc)\n",
    "        tables_list[[i]] = table_tmp$'NULL'\n",
    "        return(tables_list)\n",
    "        Sys.sleep(2)\n",
    "    }\n",
    "    }\n",
    "    \n",
    "    }"
   ]
  },
  {
   "cell_type": "code",
   "execution_count": 204,
   "metadata": {
    "ExecuteTime": {
     "end_time": "2019-09-25T12:59:38.783523Z",
     "start_time": "2019-09-25T12:59:38.774Z"
    }
   },
   "outputs": [
    {
     "data": {
      "text/html": [
       "2498"
      ],
      "text/latex": [
       "2498"
      ],
      "text/markdown": [
       "2498"
      ],
      "text/plain": [
       "[1] 2498"
      ]
     },
     "metadata": {},
     "output_type": "display_data"
    }
   ],
   "source": [
    "dim(goszak_df_kolich)[1]"
   ]
  },
  {
   "cell_type": "code",
   "execution_count": 198,
   "metadata": {
    "ExecuteTime": {
     "end_time": "2019-09-25T12:56:13.993994Z",
     "start_time": "2019-09-25T12:56:07.337Z"
    }
   },
   "outputs": [],
   "source": [
    "tables_list  <-  collecting_auctions(tables_list)"
   ]
  },
  {
   "cell_type": "code",
   "execution_count": 245,
   "metadata": {
    "ExecuteTime": {
     "end_time": "2019-09-26T01:54:15.455432Z",
     "start_time": "2019-09-25T22:48:58.986Z"
    }
   },
   "outputs": [
    {
     "name": "stderr",
     "output_type": "stream",
     "text": [
      "\n",
      "Selenium message:Unable to locate element: {\"method\":\"css selector\",\"selector\":\"#quickSearchForm_header_searchString\"}\n",
      "For documentation on this error, please visit: http://seleniumhq.org/exceptions/no_such_element.html\n",
      "Build info: version: '2.53.1', revision: 'a36b8b1', time: '2016-06-30 17:37:03'\n",
      "System info: host: 'dc6d909a7ba9', ip: '172.17.0.2', os.name: 'Linux', os.arch: 'amd64', os.version: '4.15.0-1056-oem', java.version: '1.8.0_91'\n",
      "Driver info: driver.version: unknown\n",
      "\n",
      "stoped at length:  1289\n",
      "\n",
      "Selenium message:Unable to locate element: {\"method\":\"css selector\",\"selector\":\"#quickSearchForm_header_searchString\"}\n",
      "For documentation on this error, please visit: http://seleniumhq.org/exceptions/no_such_element.html\n",
      "Build info: version: '2.53.1', revision: 'a36b8b1', time: '2016-06-30 17:37:03'\n",
      "System info: host: 'dc6d909a7ba9', ip: '172.17.0.2', os.name: 'Linux', os.arch: 'amd64', os.version: '4.15.0-1056-oem', java.version: '1.8.0_91'\n",
      "Driver info: driver.version: unknown\n",
      "\n",
      "stoped at length:  1290\n",
      "\n",
      "Selenium message:Unable to locate element: {\"method\":\"css selector\",\"selector\":\"#quickSearchForm_header_searchString\"}\n",
      "For documentation on this error, please visit: http://seleniumhq.org/exceptions/no_such_element.html\n",
      "Build info: version: '2.53.1', revision: 'a36b8b1', time: '2016-06-30 17:37:03'\n",
      "System info: host: 'dc6d909a7ba9', ip: '172.17.0.2', os.name: 'Linux', os.arch: 'amd64', os.version: '4.15.0-1056-oem', java.version: '1.8.0_91'\n",
      "Driver info: driver.version: unknown\n",
      "\n",
      "stoped at length:  1472\n",
      "\n",
      "Selenium message:Unable to locate element: {\"method\":\"css selector\",\"selector\":\"#quickSearchForm_header_searchString\"}\n",
      "For documentation on this error, please visit: http://seleniumhq.org/exceptions/no_such_element.html\n",
      "Build info: version: '2.53.1', revision: 'a36b8b1', time: '2016-06-30 17:37:03'\n",
      "System info: host: 'dc6d909a7ba9', ip: '172.17.0.2', os.name: 'Linux', os.arch: 'amd64', os.version: '4.15.0-1056-oem', java.version: '1.8.0_91'\n",
      "Driver info: driver.version: unknown\n",
      "\n",
      "stoped at length:  1475\n",
      "\n",
      "Selenium message:Unable to locate element: {\"method\":\"css selector\",\"selector\":\"#quickSearchForm_header_searchString\"}\n",
      "For documentation on this error, please visit: http://seleniumhq.org/exceptions/no_such_element.html\n",
      "Build info: version: '2.53.1', revision: 'a36b8b1', time: '2016-06-30 17:37:03'\n",
      "System info: host: 'dc6d909a7ba9', ip: '172.17.0.2', os.name: 'Linux', os.arch: 'amd64', os.version: '4.15.0-1056-oem', java.version: '1.8.0_91'\n",
      "Driver info: driver.version: unknown\n",
      "\n",
      "stoped at length:  1484\n",
      "\n",
      "Selenium message:Unable to locate element: {\"method\":\"css selector\",\"selector\":\"#quickSearchForm_header_searchString\"}\n",
      "For documentation on this error, please visit: http://seleniumhq.org/exceptions/no_such_element.html\n",
      "Build info: version: '2.53.1', revision: 'a36b8b1', time: '2016-06-30 17:37:03'\n",
      "System info: host: 'dc6d909a7ba9', ip: '172.17.0.2', os.name: 'Linux', os.arch: 'amd64', os.version: '4.15.0-1056-oem', java.version: '1.8.0_91'\n",
      "Driver info: driver.version: unknown\n",
      "\n",
      "stoped at length:  1488\n",
      "\n",
      "Selenium message:Unable to locate element: {\"method\":\"css selector\",\"selector\":\"#quickSearchForm_header_searchString\"}\n",
      "For documentation on this error, please visit: http://seleniumhq.org/exceptions/no_such_element.html\n",
      "Build info: version: '2.53.1', revision: 'a36b8b1', time: '2016-06-30 17:37:03'\n",
      "System info: host: 'dc6d909a7ba9', ip: '172.17.0.2', os.name: 'Linux', os.arch: 'amd64', os.version: '4.15.0-1056-oem', java.version: '1.8.0_91'\n",
      "Driver info: driver.version: unknown\n",
      "\n",
      "stoped at length:  1490\n",
      "\n",
      "Selenium message:Unable to locate element: {\"method\":\"css selector\",\"selector\":\"#quickSearchForm_header_searchString\"}\n",
      "For documentation on this error, please visit: http://seleniumhq.org/exceptions/no_such_element.html\n",
      "Build info: version: '2.53.1', revision: 'a36b8b1', time: '2016-06-30 17:37:03'\n",
      "System info: host: 'dc6d909a7ba9', ip: '172.17.0.2', os.name: 'Linux', os.arch: 'amd64', os.version: '4.15.0-1056-oem', java.version: '1.8.0_91'\n",
      "Driver info: driver.version: unknown\n",
      "\n",
      "stoped at length:  1492\n",
      "\n",
      "Selenium message:Unable to locate element: {\"method\":\"css selector\",\"selector\":\"#quickSearchForm_header_searchString\"}\n",
      "For documentation on this error, please visit: http://seleniumhq.org/exceptions/no_such_element.html\n",
      "Build info: version: '2.53.1', revision: 'a36b8b1', time: '2016-06-30 17:37:03'\n",
      "System info: host: 'dc6d909a7ba9', ip: '172.17.0.2', os.name: 'Linux', os.arch: 'amd64', os.version: '4.15.0-1056-oem', java.version: '1.8.0_91'\n",
      "Driver info: driver.version: unknown\n",
      "\n",
      "stoped at length:  1496\n",
      "\n",
      "Selenium message:Unable to locate element: {\"method\":\"css selector\",\"selector\":\"#quickSearchForm_header_searchString\"}\n",
      "For documentation on this error, please visit: http://seleniumhq.org/exceptions/no_such_element.html\n",
      "Build info: version: '2.53.1', revision: 'a36b8b1', time: '2016-06-30 17:37:03'\n",
      "System info: host: 'dc6d909a7ba9', ip: '172.17.0.2', os.name: 'Linux', os.arch: 'amd64', os.version: '4.15.0-1056-oem', java.version: '1.8.0_91'\n",
      "Driver info: driver.version: unknown\n",
      "\n",
      "stoped at length:  1497\n",
      "\n",
      "Selenium message:Unable to locate element: {\"method\":\"css selector\",\"selector\":\"#quickSearchForm_header_searchString\"}\n",
      "For documentation on this error, please visit: http://seleniumhq.org/exceptions/no_such_element.html\n",
      "Build info: version: '2.53.1', revision: 'a36b8b1', time: '2016-06-30 17:37:03'\n",
      "System info: host: 'dc6d909a7ba9', ip: '172.17.0.2', os.name: 'Linux', os.arch: 'amd64', os.version: '4.15.0-1056-oem', java.version: '1.8.0_91'\n",
      "Driver info: driver.version: unknown\n",
      "\n",
      "stoped at length:  1499\n",
      "\n",
      "Selenium message:Unable to locate element: {\"method\":\"css selector\",\"selector\":\"#quickSearchForm_header_searchString\"}\n",
      "For documentation on this error, please visit: http://seleniumhq.org/exceptions/no_such_element.html\n",
      "Build info: version: '2.53.1', revision: 'a36b8b1', time: '2016-06-30 17:37:03'\n",
      "System info: host: 'dc6d909a7ba9', ip: '172.17.0.2', os.name: 'Linux', os.arch: 'amd64', os.version: '4.15.0-1056-oem', java.version: '1.8.0_91'\n",
      "Driver info: driver.version: unknown\n",
      "\n",
      "stoped at length:  1509\n",
      "\n",
      "Selenium message:Unable to locate element: {\"method\":\"css selector\",\"selector\":\"#quickSearchForm_header_searchString\"}\n",
      "For documentation on this error, please visit: http://seleniumhq.org/exceptions/no_such_element.html\n",
      "Build info: version: '2.53.1', revision: 'a36b8b1', time: '2016-06-30 17:37:03'\n",
      "System info: host: 'dc6d909a7ba9', ip: '172.17.0.2', os.name: 'Linux', os.arch: 'amd64', os.version: '4.15.0-1056-oem', java.version: '1.8.0_91'\n",
      "Driver info: driver.version: unknown\n",
      "\n",
      "stoped at length:  1534\n",
      "\n",
      "Selenium message:Unable to locate element: {\"method\":\"css selector\",\"selector\":\"#quickSearchForm_header_searchString\"}\n",
      "For documentation on this error, please visit: http://seleniumhq.org/exceptions/no_such_element.html\n",
      "Build info: version: '2.53.1', revision: 'a36b8b1', time: '2016-06-30 17:37:03'\n",
      "System info: host: 'dc6d909a7ba9', ip: '172.17.0.2', os.name: 'Linux', os.arch: 'amd64', os.version: '4.15.0-1056-oem', java.version: '1.8.0_91'\n",
      "Driver info: driver.version: unknown\n",
      "\n",
      "stoped at length:  1559\n",
      "\n",
      "Selenium message:Unable to locate element: {\"method\":\"css selector\",\"selector\":\"#quickSearchForm_header_searchString\"}\n",
      "For documentation on this error, please visit: http://seleniumhq.org/exceptions/no_such_element.html\n",
      "Build info: version: '2.53.1', revision: 'a36b8b1', time: '2016-06-30 17:37:03'\n",
      "System info: host: 'dc6d909a7ba9', ip: '172.17.0.2', os.name: 'Linux', os.arch: 'amd64', os.version: '4.15.0-1056-oem', java.version: '1.8.0_91'\n",
      "Driver info: driver.version: unknown\n",
      "\n",
      "stoped at length:  1559\n",
      "\n",
      "Selenium message:Unable to locate element: {\"method\":\"css selector\",\"selector\":\"#quickSearchForm_header_searchString\"}\n",
      "For documentation on this error, please visit: http://seleniumhq.org/exceptions/no_such_element.html\n",
      "Build info: version: '2.53.1', revision: 'a36b8b1', time: '2016-06-30 17:37:03'\n",
      "System info: host: 'dc6d909a7ba9', ip: '172.17.0.2', os.name: 'Linux', os.arch: 'amd64', os.version: '4.15.0-1056-oem', java.version: '1.8.0_91'\n",
      "Driver info: driver.version: unknown\n",
      "\n",
      "stoped at length:  1573\n",
      "\n",
      "Selenium message:Unable to locate element: {\"method\":\"css selector\",\"selector\":\"#quickSearchForm_header_searchString\"}\n",
      "For documentation on this error, please visit: http://seleniumhq.org/exceptions/no_such_element.html\n",
      "Build info: version: '2.53.1', revision: 'a36b8b1', time: '2016-06-30 17:37:03'\n",
      "System info: host: 'dc6d909a7ba9', ip: '172.17.0.2', os.name: 'Linux', os.arch: 'amd64', os.version: '4.15.0-1056-oem', java.version: '1.8.0_91'\n",
      "Driver info: driver.version: unknown\n",
      "\n"
     ]
    },
    {
     "name": "stderr",
     "output_type": "stream",
     "text": [
      "stoped at length:  1836\n",
      "\n",
      "Selenium message:Unable to locate element: {\"method\":\"css selector\",\"selector\":\"#quickSearchForm_header_searchString\"}\n",
      "For documentation on this error, please visit: http://seleniumhq.org/exceptions/no_such_element.html\n",
      "Build info: version: '2.53.1', revision: 'a36b8b1', time: '2016-06-30 17:37:03'\n",
      "System info: host: 'dc6d909a7ba9', ip: '172.17.0.2', os.name: 'Linux', os.arch: 'amd64', os.version: '4.15.0-1056-oem', java.version: '1.8.0_91'\n",
      "Driver info: driver.version: unknown\n",
      "\n",
      "stoped at length:  1842\n",
      "\n",
      "Selenium message:Unable to locate element: {\"method\":\"css selector\",\"selector\":\"#quickSearchForm_header_searchString\"}\n",
      "For documentation on this error, please visit: http://seleniumhq.org/exceptions/no_such_element.html\n",
      "Build info: version: '2.53.1', revision: 'a36b8b1', time: '2016-06-30 17:37:03'\n",
      "System info: host: 'dc6d909a7ba9', ip: '172.17.0.2', os.name: 'Linux', os.arch: 'amd64', os.version: '4.15.0-1056-oem', java.version: '1.8.0_91'\n",
      "Driver info: driver.version: unknown\n",
      "\n",
      "stoped at length:  1842\n",
      "\n",
      "Selenium message:Unable to locate element: {\"method\":\"css selector\",\"selector\":\"#quickSearchForm_header_searchString\"}\n",
      "For documentation on this error, please visit: http://seleniumhq.org/exceptions/no_such_element.html\n",
      "Build info: version: '2.53.1', revision: 'a36b8b1', time: '2016-06-30 17:37:03'\n",
      "System info: host: 'dc6d909a7ba9', ip: '172.17.0.2', os.name: 'Linux', os.arch: 'amd64', os.version: '4.15.0-1056-oem', java.version: '1.8.0_91'\n",
      "Driver info: driver.version: unknown\n",
      "\n",
      "stoped at length:  1859\n",
      "\n",
      "Selenium message:Unable to locate element: {\"method\":\"css selector\",\"selector\":\"#quickSearchForm_header_searchString\"}\n",
      "For documentation on this error, please visit: http://seleniumhq.org/exceptions/no_such_element.html\n",
      "Build info: version: '2.53.1', revision: 'a36b8b1', time: '2016-06-30 17:37:03'\n",
      "System info: host: 'dc6d909a7ba9', ip: '172.17.0.2', os.name: 'Linux', os.arch: 'amd64', os.version: '4.15.0-1056-oem', java.version: '1.8.0_91'\n",
      "Driver info: driver.version: unknown\n",
      "\n",
      "stoped at length:  1866\n",
      "\n",
      "Selenium message:Unable to locate element: {\"method\":\"css selector\",\"selector\":\"#quickSearchForm_header_searchString\"}\n",
      "For documentation on this error, please visit: http://seleniumhq.org/exceptions/no_such_element.html\n",
      "Build info: version: '2.53.1', revision: 'a36b8b1', time: '2016-06-30 17:37:03'\n",
      "System info: host: 'dc6d909a7ba9', ip: '172.17.0.2', os.name: 'Linux', os.arch: 'amd64', os.version: '4.15.0-1056-oem', java.version: '1.8.0_91'\n",
      "Driver info: driver.version: unknown\n",
      "\n",
      "stoped at length:  1883\n",
      "\n",
      "Selenium message:Unable to locate element: {\"method\":\"css selector\",\"selector\":\"#quickSearchForm_header_searchString\"}\n",
      "For documentation on this error, please visit: http://seleniumhq.org/exceptions/no_such_element.html\n",
      "Build info: version: '2.53.1', revision: 'a36b8b1', time: '2016-06-30 17:37:03'\n",
      "System info: host: 'dc6d909a7ba9', ip: '172.17.0.2', os.name: 'Linux', os.arch: 'amd64', os.version: '4.15.0-1056-oem', java.version: '1.8.0_91'\n",
      "Driver info: driver.version: unknown\n",
      "\n",
      "stoped at length:  1891\n",
      "\n",
      "Selenium message:Unable to locate element: {\"method\":\"css selector\",\"selector\":\"#quickSearchForm_header_searchString\"}\n",
      "For documentation on this error, please visit: http://seleniumhq.org/exceptions/no_such_element.html\n",
      "Build info: version: '2.53.1', revision: 'a36b8b1', time: '2016-06-30 17:37:03'\n",
      "System info: host: 'dc6d909a7ba9', ip: '172.17.0.2', os.name: 'Linux', os.arch: 'amd64', os.version: '4.15.0-1056-oem', java.version: '1.8.0_91'\n",
      "Driver info: driver.version: unknown\n",
      "\n",
      "stoped at length:  1923\n",
      "\n",
      "Selenium message:Unable to locate element: {\"method\":\"css selector\",\"selector\":\"#quickSearchForm_header_searchString\"}\n",
      "For documentation on this error, please visit: http://seleniumhq.org/exceptions/no_such_element.html\n",
      "Build info: version: '2.53.1', revision: 'a36b8b1', time: '2016-06-30 17:37:03'\n",
      "System info: host: 'dc6d909a7ba9', ip: '172.17.0.2', os.name: 'Linux', os.arch: 'amd64', os.version: '4.15.0-1056-oem', java.version: '1.8.0_91'\n",
      "Driver info: driver.version: unknown\n",
      "\n",
      "stoped at length:  1937\n",
      "\n",
      "Selenium message:Unable to locate element: {\"method\":\"css selector\",\"selector\":\"#quickSearchForm_header_searchString\"}\n",
      "For documentation on this error, please visit: http://seleniumhq.org/exceptions/no_such_element.html\n",
      "Build info: version: '2.53.1', revision: 'a36b8b1', time: '2016-06-30 17:37:03'\n",
      "System info: host: 'dc6d909a7ba9', ip: '172.17.0.2', os.name: 'Linux', os.arch: 'amd64', os.version: '4.15.0-1056-oem', java.version: '1.8.0_91'\n",
      "Driver info: driver.version: unknown\n",
      "\n",
      "stoped at length:  1953\n",
      "\n",
      "Selenium message:Unable to locate element: {\"method\":\"css selector\",\"selector\":\"#quickSearchForm_header_searchString\"}\n",
      "For documentation on this error, please visit: http://seleniumhq.org/exceptions/no_such_element.html\n",
      "Build info: version: '2.53.1', revision: 'a36b8b1', time: '2016-06-30 17:37:03'\n",
      "System info: host: 'dc6d909a7ba9', ip: '172.17.0.2', os.name: 'Linux', os.arch: 'amd64', os.version: '4.15.0-1056-oem', java.version: '1.8.0_91'\n",
      "Driver info: driver.version: unknown\n",
      "\n",
      "stoped at length:  1954\n",
      "\n",
      "Selenium message:Unable to locate element: {\"method\":\"css selector\",\"selector\":\"#quickSearchForm_header_searchString\"}\n",
      "For documentation on this error, please visit: http://seleniumhq.org/exceptions/no_such_element.html\n",
      "Build info: version: '2.53.1', revision: 'a36b8b1', time: '2016-06-30 17:37:03'\n",
      "System info: host: 'dc6d909a7ba9', ip: '172.17.0.2', os.name: 'Linux', os.arch: 'amd64', os.version: '4.15.0-1056-oem', java.version: '1.8.0_91'\n",
      "Driver info: driver.version: unknown\n",
      "\n",
      "stoped at length:  1955\n",
      "\n",
      "Selenium message:Unable to locate element: {\"method\":\"css selector\",\"selector\":\"#quickSearchForm_header_searchString\"}\n",
      "For documentation on this error, please visit: http://seleniumhq.org/exceptions/no_such_element.html\n",
      "Build info: version: '2.53.1', revision: 'a36b8b1', time: '2016-06-30 17:37:03'\n",
      "System info: host: 'dc6d909a7ba9', ip: '172.17.0.2', os.name: 'Linux', os.arch: 'amd64', os.version: '4.15.0-1056-oem', java.version: '1.8.0_91'\n",
      "Driver info: driver.version: unknown\n",
      "\n",
      "stoped at length:  1956\n",
      "\n",
      "Selenium message:Unable to locate element: {\"method\":\"css selector\",\"selector\":\"#quickSearchForm_header_searchString\"}\n",
      "For documentation on this error, please visit: http://seleniumhq.org/exceptions/no_such_element.html\n",
      "Build info: version: '2.53.1', revision: 'a36b8b1', time: '2016-06-30 17:37:03'\n",
      "System info: host: 'dc6d909a7ba9', ip: '172.17.0.2', os.name: 'Linux', os.arch: 'amd64', os.version: '4.15.0-1056-oem', java.version: '1.8.0_91'\n",
      "Driver info: driver.version: unknown\n",
      "\n",
      "stoped at length:  1957\n",
      "\n",
      "Selenium message:Unable to locate element: {\"method\":\"css selector\",\"selector\":\"#quickSearchForm_header_searchString\"}\n",
      "For documentation on this error, please visit: http://seleniumhq.org/exceptions/no_such_element.html\n",
      "Build info: version: '2.53.1', revision: 'a36b8b1', time: '2016-06-30 17:37:03'\n",
      "System info: host: 'dc6d909a7ba9', ip: '172.17.0.2', os.name: 'Linux', os.arch: 'amd64', os.version: '4.15.0-1056-oem', java.version: '1.8.0_91'\n",
      "Driver info: driver.version: unknown\n",
      "\n",
      "stoped at length:  2057\n",
      "\n",
      "Selenium message:Unable to locate element: {\"method\":\"css selector\",\"selector\":\"#quickSearchForm_header_searchString\"}\n",
      "For documentation on this error, please visit: http://seleniumhq.org/exceptions/no_such_element.html\n",
      "Build info: version: '2.53.1', revision: 'a36b8b1', time: '2016-06-30 17:37:03'\n",
      "System info: host: 'dc6d909a7ba9', ip: '172.17.0.2', os.name: 'Linux', os.arch: 'amd64', os.version: '4.15.0-1056-oem', java.version: '1.8.0_91'\n",
      "Driver info: driver.version: unknown\n",
      "\n",
      "stoped at length:  2059\n",
      "\n",
      "Selenium message:Unable to locate element: {\"method\":\"css selector\",\"selector\":\"#quickSearchForm_header_searchString\"}\n",
      "For documentation on this error, please visit: http://seleniumhq.org/exceptions/no_such_element.html\n",
      "Build info: version: '2.53.1', revision: 'a36b8b1', time: '2016-06-30 17:37:03'\n",
      "System info: host: 'dc6d909a7ba9', ip: '172.17.0.2', os.name: 'Linux', os.arch: 'amd64', os.version: '4.15.0-1056-oem', java.version: '1.8.0_91'\n",
      "Driver info: driver.version: unknown\n",
      "\n",
      "stoped at length:  2232\n",
      "\n",
      "Selenium message:Unable to locate element: {\"method\":\"css selector\",\"selector\":\"#quickSearchForm_header_searchString\"}\n",
      "For documentation on this error, please visit: http://seleniumhq.org/exceptions/no_such_element.html\n",
      "Build info: version: '2.53.1', revision: 'a36b8b1', time: '2016-06-30 17:37:03'\n",
      "System info: host: 'dc6d909a7ba9', ip: '172.17.0.2', os.name: 'Linux', os.arch: 'amd64', os.version: '4.15.0-1056-oem', java.version: '1.8.0_91'\n",
      "Driver info: driver.version: unknown\n",
      "\n"
     ]
    },
    {
     "name": "stderr",
     "output_type": "stream",
     "text": [
      "stoped at length:  2300\n",
      "\n",
      "Selenium message:Unable to locate element: {\"method\":\"css selector\",\"selector\":\"#quickSearchForm_header_searchString\"}\n",
      "For documentation on this error, please visit: http://seleniumhq.org/exceptions/no_such_element.html\n",
      "Build info: version: '2.53.1', revision: 'a36b8b1', time: '2016-06-30 17:37:03'\n",
      "System info: host: 'dc6d909a7ba9', ip: '172.17.0.2', os.name: 'Linux', os.arch: 'amd64', os.version: '4.15.0-1056-oem', java.version: '1.8.0_91'\n",
      "Driver info: driver.version: unknown\n",
      "\n",
      "stoped at length:  2300\n",
      "\n",
      "Selenium message:Unable to locate element: {\"method\":\"css selector\",\"selector\":\"#quickSearchForm_header_searchString\"}\n",
      "For documentation on this error, please visit: http://seleniumhq.org/exceptions/no_such_element.html\n",
      "Build info: version: '2.53.1', revision: 'a36b8b1', time: '2016-06-30 17:37:03'\n",
      "System info: host: 'dc6d909a7ba9', ip: '172.17.0.2', os.name: 'Linux', os.arch: 'amd64', os.version: '4.15.0-1056-oem', java.version: '1.8.0_91'\n",
      "Driver info: driver.version: unknown\n",
      "\n",
      "stoped at length:  2371\n",
      "\n",
      "Selenium message:Unable to locate element: {\"method\":\"css selector\",\"selector\":\"#quickSearchForm_header_searchString\"}\n",
      "For documentation on this error, please visit: http://seleniumhq.org/exceptions/no_such_element.html\n",
      "Build info: version: '2.53.1', revision: 'a36b8b1', time: '2016-06-30 17:37:03'\n",
      "System info: host: 'dc6d909a7ba9', ip: '172.17.0.2', os.name: 'Linux', os.arch: 'amd64', os.version: '4.15.0-1056-oem', java.version: '1.8.0_91'\n",
      "Driver info: driver.version: unknown\n",
      "\n",
      "stoped at length:  2374\n",
      "\n",
      "Selenium message:Unable to locate element: {\"method\":\"css selector\",\"selector\":\"#quickSearchForm_header_searchString\"}\n",
      "For documentation on this error, please visit: http://seleniumhq.org/exceptions/no_such_element.html\n",
      "Build info: version: '2.53.1', revision: 'a36b8b1', time: '2016-06-30 17:37:03'\n",
      "System info: host: 'dc6d909a7ba9', ip: '172.17.0.2', os.name: 'Linux', os.arch: 'amd64', os.version: '4.15.0-1056-oem', java.version: '1.8.0_91'\n",
      "Driver info: driver.version: unknown\n",
      "\n",
      "stoped at length:  2383\n",
      "\n",
      "Selenium message:Unable to locate element: {\"method\":\"css selector\",\"selector\":\"#quickSearchForm_header_searchString\"}\n",
      "For documentation on this error, please visit: http://seleniumhq.org/exceptions/no_such_element.html\n",
      "Build info: version: '2.53.1', revision: 'a36b8b1', time: '2016-06-30 17:37:03'\n",
      "System info: host: 'dc6d909a7ba9', ip: '172.17.0.2', os.name: 'Linux', os.arch: 'amd64', os.version: '4.15.0-1056-oem', java.version: '1.8.0_91'\n",
      "Driver info: driver.version: unknown\n",
      "\n",
      "stoped at length:  2383\n"
     ]
    }
   ],
   "source": [
    "while (length(tables_list) != dim(goszak_df_kolich)[1]) {\n",
    "    tables_list <- tryCatch({\n",
    "        collecting_auctions(tables_list)\n",
    "    }, error = function(cond) {\n",
    "        message(paste(\"stoped at length: \", length(tables_list) ))\n",
    "        Sys.sleep(10)\n",
    "        return(tables_list)\n",
    "        }\n",
    "                           )\n",
    "    \n",
    "}"
   ]
  },
  {
   "cell_type": "code",
   "execution_count": 210,
   "metadata": {
    "ExecuteTime": {
     "end_time": "2019-09-25T13:17:25.501165Z",
     "start_time": "2019-09-25T13:17:25.483Z"
    }
   },
   "outputs": [],
   "source": [
    "# tables_list"
   ]
  },
  {
   "cell_type": "code",
   "execution_count": 246,
   "metadata": {
    "ExecuteTime": {
     "end_time": "2019-09-26T03:35:52.288688Z",
     "start_time": "2019-09-26T03:35:52.278Z"
    }
   },
   "outputs": [
    {
     "data": {
      "text/html": [
       "2498"
      ],
      "text/latex": [
       "2498"
      ],
      "text/markdown": [
       "2498"
      ],
      "text/plain": [
       "[1] 2498"
      ]
     },
     "metadata": {},
     "output_type": "display_data"
    }
   ],
   "source": [
    "length(tables_list)"
   ]
  },
  {
   "cell_type": "code",
   "execution_count": 247,
   "metadata": {
    "ExecuteTime": {
     "end_time": "2019-09-26T07:25:03.735187Z",
     "start_time": "2019-09-26T07:25:03.612Z"
    }
   },
   "outputs": [
    {
     "data": {
      "text/html": [
       "<ol>\n",
       "\t<li><table>\n",
       "<thead><tr><th scope=col>V1</th><th scope=col>V2</th><th scope=col>V3</th></tr></thead>\n",
       "<tbody>\n",
       "\t<tr><td>Электронный аукцион\n",
       "                                        \n",
       "                                    \n",
       "                                \n",
       "                            \n",
       "                            \n",
       "                                    \n",
       "                                \n",
       "                            \n",
       "                            \n",
       "                                \n",
       "                                    \n",
       "                                        \n",
       "                                            \n",
       "                                            \n",
       "                                            \n",
       "                                            \n",
       "                                            \n",
       "                                                                            \n",
       "                                                                            Процедура завершена /\n",
       "                                                                            \n",
       "                                                                        \n",
       "                                                    \n",
       "                                                    44-ФЗ\n",
       "                                            \n",
       "                                            \n",
       "                                        \n",
       "                                    \n",
       "                                    \n",
       "                                \n",
       "                            \n",
       "                            \n",
       "                            \n",
       "                                \n",
       "                                    Начальная цена\n",
       "                                        \n",
       "\n",
       "                                        1 008 666\n",
       "                                        ,67\n",
       "                                    Российский рубль</td><td>№ 0141300015917000010\n",
       "                                \n",
       "                                    \n",
       "                                    \n",
       "                                \n",
       "                            \n",
       "                            \n",
       "                                \n",
       "                                    \n",
       "                                    \n",
       "                                    \n",
       "                                        \n",
       "                                            \n",
       "                                                Организация, осуществляющая размещение:\n",
       "                                                \n",
       "                                                        \n",
       "                                                            АДМИНИСТРАЦИЯ ВОХОМСКОГО МУНИЦИПАЛЬНОГО РАЙОНА КОСТРОМСКОЙ ОБЛАСТИ\n",
       "                                                        \n",
       "                                                    \n",
       "                                                \n",
       "                            \n",
       "                                 Приобретение микроавтобуса Газель Бизнес ГАЗ 32212 или эквивалент\n",
       "                                \n",
       "                            \n",
       "                                \n",
       "                                    Идентификационный код закупки(ИКЗ):\n",
       "                                    \n",
       "                                        \n",
       "\n",
       "\n",
       "\n",
       "\n",
       "\n",
       "\n",
       "\n",
       "\n",
       "\n",
       "    173441000114044100100100100012910244                                                                                                                                                                                                                                                                                                                                                </td><td>Размещено: 08.06.2017\n",
       "                            Обновлено: 04.12.2017                                                                                                                                                                                                                                                                                                                                                                                                                                                                                                                                                                                                                                                                                                                                                                                                                                                                                                                                                                                                                                                                                                                                                                                                                                                                                                                                                                                                                                                                                                                                                                                                                                                                                                                     </td></tr>\n",
       "</tbody>\n",
       "</table>\n",
       "</li>\n",
       "</ol>\n"
      ],
      "text/latex": [
       "\\begin{enumerate}\n",
       "\\item \\begin{tabular}{r|lll}\n",
       " V1 & V2 & V3\\\\\n",
       "\\hline\n",
       "\t Электронный аукцион\n",
       "                                        \n",
       "                                    \n",
       "                                \n",
       "                            \n",
       "                            \n",
       "                                    \n",
       "                                \n",
       "                            \n",
       "                            \n",
       "                                \n",
       "                                    \n",
       "                                        \n",
       "                                            \n",
       "                                            \n",
       "                                            \n",
       "                                            \n",
       "                                            \n",
       "                                                                            \n",
       "                                                                            Процедура завершена /\n",
       "                                                                            \n",
       "                                                                        \n",
       "                                                    \n",
       "                                                    44-ФЗ\n",
       "                                            \n",
       "                                            \n",
       "                                        \n",
       "                                    \n",
       "                                    \n",
       "                                \n",
       "                            \n",
       "                            \n",
       "                            \n",
       "                                \n",
       "                                    Начальная цена\n",
       "                                        \n",
       "\n",
       "                                        1 008 666\n",
       "                                        ,67\n",
       "                                    Российский рубль & № 0141300015917000010\n",
       "                                \n",
       "                                    \n",
       "                                    \n",
       "                                \n",
       "                            \n",
       "                            \n",
       "                                \n",
       "                                    \n",
       "                                    \n",
       "                                    \n",
       "                                        \n",
       "                                            \n",
       "                                                Организация, осуществляющая размещение:\n",
       "                                                \n",
       "                                                        \n",
       "                                                            АДМИНИСТРАЦИЯ ВОХОМСКОГО МУНИЦИПАЛЬНОГО РАЙОНА КОСТРОМСКОЙ ОБЛАСТИ\n",
       "                                                        \n",
       "                                                    \n",
       "                                                \n",
       "                            \n",
       "                                 Приобретение микроавтобуса Газель Бизнес ГАЗ 32212 или эквивалент\n",
       "                                \n",
       "                            \n",
       "                                \n",
       "                                    Идентификационный код закупки(ИКЗ):\n",
       "                                    \n",
       "                                        \n",
       "\n",
       "\n",
       "\n",
       "\n",
       "\n",
       "\n",
       "\n",
       "\n",
       "\n",
       "    173441000114044100100100100012910244                                                                                                                                                                                                                                                                                                                                                 & Размещено: 08.06.2017\n",
       "                            Обновлено: 04.12.2017                                                                                                                                                                                                                                                                                                                                                                                                                                                                                                                                                                                                                                                                                                                                                                                                                                                                                                                                                                                                                                                                                                                                                                                                                                                                                                                                                                                                                                                                                                                                                                                                                                                                                                                     \\\\\n",
       "\\end{tabular}\n",
       "\n",
       "\\end{enumerate}\n"
      ],
      "text/markdown": [
       "1. \n",
       "V1 | V2 | V3 | \n",
       "|---|\n",
       "| Электронный аукцион\n",
       "                                        \n",
       "                                    \n",
       "                                \n",
       "                            \n",
       "                            \n",
       "                                    \n",
       "                                \n",
       "                            \n",
       "                            \n",
       "                                \n",
       "                                    \n",
       "                                        \n",
       "                                            \n",
       "                                            \n",
       "                                            \n",
       "                                            \n",
       "                                            \n",
       "                                                                            \n",
       "                                                                            Процедура завершена /\n",
       "                                                                            \n",
       "                                                                        \n",
       "                                                    \n",
       "                                                    44-ФЗ\n",
       "                                            \n",
       "                                            \n",
       "                                        \n",
       "                                    \n",
       "                                    \n",
       "                                \n",
       "                            \n",
       "                            \n",
       "                            \n",
       "                                \n",
       "                                    Начальная цена\n",
       "                                        \n",
       "\n",
       "                                        1 008 666\n",
       "                                        ,67\n",
       "                                    Российский рубль | № 0141300015917000010\n",
       "                                \n",
       "                                    \n",
       "                                    \n",
       "                                \n",
       "                            \n",
       "                            \n",
       "                                \n",
       "                                    \n",
       "                                    \n",
       "                                    \n",
       "                                        \n",
       "                                            \n",
       "                                                Организация, осуществляющая размещение:\n",
       "                                                \n",
       "                                                        \n",
       "                                                            АДМИНИСТРАЦИЯ ВОХОМСКОГО МУНИЦИПАЛЬНОГО РАЙОНА КОСТРОМСКОЙ ОБЛАСТИ\n",
       "                                                        \n",
       "                                                    \n",
       "                                                \n",
       "                            \n",
       "                                 Приобретение микроавтобуса Газель Бизнес ГАЗ 32212 или эквивалент\n",
       "                                \n",
       "                            \n",
       "                                \n",
       "                                    Идентификационный код закупки(ИКЗ):\n",
       "                                    \n",
       "                                        \n",
       "\n",
       "\n",
       "\n",
       "\n",
       "\n",
       "\n",
       "\n",
       "\n",
       "\n",
       "    173441000114044100100100100012910244                                                                                                                                                                                                                                                                                                                                                 | Размещено: 08.06.2017\n",
       "                            Обновлено: 04.12.2017                                                                                                                                                                                                                                                                                                                                                                                                                                                                                                                                                                                                                                                                                                                                                                                                                                                                                                                                                                                                                                                                                                                                                                                                                                                                                                                                                                                                                                                                                                                                                                                                                                                                                                                      | \n",
       "\n",
       "\n",
       "\n",
       "\n",
       "\n"
      ],
      "text/plain": [
       "[[1]]\n",
       "                                                                                                                                                                                                                                                                                                                                                                                                                                                                                                                                                                                                                                                                                                                                                                                                                                                                                                                                                                                                                                                                                                                                                                                                                                                                                                                                                                                                                                                                                                                                                                                                                                                                                                                                                                                             V1\n",
       "1 Электронный аукцион\\n                                        \\n                                    \\n                                \\n                            \\n                            \\n                                    \\n                                \\n                            \\n                            \\n                                \\n                                    \\n                                        \\n                                            \\n                                            \\n                                            \\n                                            \\n                                            \\n                                                                            \\n                                                                            Процедура завершена /\\n                                                                            \\n                                                                        \\n                                                    \\n                                                    44-ФЗ\\n                                            \\n                                            \\n                                        \\n                                    \\n                                    \\n                                \\n                            \\n                            \\n                            \\n                                \\n                                    Начальная цена\\n                                        \\n\\n                                        1 008 666\\n                                        ,67\\n                                    Российский рубль\n",
       "                                                                                                                                                                                                                                                                                                                                                                                                                                                                                                                                                                                                                                                                                                                                                                                                                                                                                                                                                                                                                                                                                                                                                                                                                                                                                                                                                                                                                                             V2\n",
       "1 № 0141300015917000010\\n                                \\n                                    \\n                                    \\n                                \\n                            \\n                            \\n                                \\n                                    \\n                                    \\n                                    \\n                                        \\n                                            \\n                                                Организация, осуществляющая размещение:\\n                                                \\n                                                        \\n                                                            АДМИНИСТРАЦИЯ ВОХОМСКОГО МУНИЦИПАЛЬНОГО РАЙОНА КОСТРОМСКОЙ ОБЛАСТИ\\n                                                        \\n                                                    \\n                                                \\n                            \\n                                 Приобретение микроавтобуса Газель Бизнес ГАЗ 32212 или эквивалент\\n                                \\n                            \\n                                \\n                                    Идентификационный код закупки(ИКЗ):\\n                                    \\n                                        \\n\\n\\n\\n\\n\\n\\n\\n\\n\\n    173441000114044100100100100012910244\n",
       "                                                                        V3\n",
       "1 Размещено: 08.06.2017\\n                            Обновлено: 04.12.2017\n"
      ]
     },
     "metadata": {},
     "output_type": "display_data"
    }
   ],
   "source": [
    "tables_list[2498]"
   ]
  },
  {
   "cell_type": "code",
   "execution_count": 248,
   "metadata": {
    "ExecuteTime": {
     "end_time": "2019-09-26T07:25:40.251220Z",
     "start_time": "2019-09-26T07:25:40.183Z"
    }
   },
   "outputs": [],
   "source": [
    "nulls  <-  c()\n",
    "for (i in tables_list){\n",
    "    nulls  <- c(nulls, is.null(i))\n",
    "}"
   ]
  },
  {
   "cell_type": "code",
   "execution_count": 249,
   "metadata": {
    "ExecuteTime": {
     "end_time": "2019-09-26T07:25:40.663787Z",
     "start_time": "2019-09-26T07:25:40.605Z"
    }
   },
   "outputs": [
    {
     "data": {
      "text/html": [],
      "text/latex": [],
      "text/markdown": [],
      "text/plain": [
       "integer(0)"
      ]
     },
     "metadata": {},
     "output_type": "display_data"
    }
   ],
   "source": [
    "nulls2 = 1:length(nulls)\n",
    "nulls2[nulls]"
   ]
  },
  {
   "cell_type": "code",
   "execution_count": 251,
   "metadata": {
    "ExecuteTime": {
     "end_time": "2019-09-26T07:28:27.260866Z",
     "start_time": "2019-09-26T07:28:27.240Z"
    }
   },
   "outputs": [],
   "source": [
    "table_auction = data.frame(matrix(NA, nrow = 0, ncol = 3))\n",
    "colnames(table_auction) = c('V1','V2','V3') "
   ]
  },
  {
   "cell_type": "code",
   "execution_count": 252,
   "metadata": {
    "ExecuteTime": {
     "end_time": "2019-09-26T07:29:55.170061Z",
     "start_time": "2019-09-26T07:28:27.828Z"
    }
   },
   "outputs": [],
   "source": [
    "for (i in 1:length(tables_list)){\n",
    "    table_auction  <-  rbind(table_auction, tables_list[[i]])\n",
    "}"
   ]
  },
  {
   "cell_type": "code",
   "execution_count": 254,
   "metadata": {
    "ExecuteTime": {
     "end_time": "2019-09-26T07:30:20.470948Z",
     "start_time": "2019-09-26T07:30:20.425Z"
    }
   },
   "outputs": [
    {
     "data": {
      "text/html": [
       "<ol class=list-inline>\n",
       "\t<li>2498</li>\n",
       "\t<li>3</li>\n",
       "</ol>\n"
      ],
      "text/latex": [
       "\\begin{enumerate*}\n",
       "\\item 2498\n",
       "\\item 3\n",
       "\\end{enumerate*}\n"
      ],
      "text/markdown": [
       "1. 2498\n",
       "2. 3\n",
       "\n",
       "\n"
      ],
      "text/plain": [
       "[1] 2498    3"
      ]
     },
     "metadata": {},
     "output_type": "display_data"
    }
   ],
   "source": [
    "dim(table_auction)"
   ]
  },
  {
   "cell_type": "code",
   "execution_count": 255,
   "metadata": {
    "ExecuteTime": {
     "end_time": "2019-09-26T07:30:25.614900Z",
     "start_time": "2019-09-26T07:30:25.537Z"
    }
   },
   "outputs": [],
   "source": [
    "write.csv(table_auction, 'check_selen.csv')"
   ]
  },
  {
   "cell_type": "code",
   "execution_count": 259,
   "metadata": {
    "ExecuteTime": {
     "end_time": "2019-09-26T07:33:55.269255Z",
     "start_time": "2019-09-26T07:33:55.220Z"
    }
   },
   "outputs": [],
   "source": [
    "library(stringr)"
   ]
  },
  {
   "cell_type": "code",
   "execution_count": 269,
   "metadata": {
    "ExecuteTime": {
     "end_time": "2019-09-26T07:40:39.896684Z",
     "start_time": "2019-09-26T07:40:39.866Z"
    }
   },
   "outputs": [],
   "source": [
    "table_auction_2  <- table_auction"
   ]
  },
  {
   "cell_type": "code",
   "execution_count": 270,
   "metadata": {
    "ExecuteTime": {
     "end_time": "2019-09-26T07:40:44.090189Z",
     "start_time": "2019-09-26T07:40:43.914Z"
    }
   },
   "outputs": [],
   "source": [
    "table_auction_2[] <-  lapply(table_auction_2, function(x) str_replace_all(x, '\\n', ''))"
   ]
  },
  {
   "cell_type": "code",
   "execution_count": 272,
   "metadata": {
    "ExecuteTime": {
     "end_time": "2019-09-26T07:41:21.192245Z",
     "start_time": "2019-09-26T07:41:21.119Z"
    }
   },
   "outputs": [],
   "source": [
    "write.csv(table_auction_2, 'check_selen.csv')"
   ]
  },
  {
   "cell_type": "code",
   "execution_count": 276,
   "metadata": {
    "ExecuteTime": {
     "end_time": "2019-09-26T07:43:23.443460Z",
     "start_time": "2019-09-26T07:43:23.427Z"
    }
   },
   "outputs": [],
   "source": [
    "# goszak_df_kolich"
   ]
  },
  {
   "cell_type": "code",
   "execution_count": 297,
   "metadata": {
    "ExecuteTime": {
     "end_time": "2019-09-26T07:51:57.780126Z",
     "start_time": "2019-09-26T07:51:57.730Z"
    }
   },
   "outputs": [],
   "source": [
    "table_auction_2['auc']  <-  lapply(table_auction_2['V1'], function(x) str_detect(x, 'Электронный аукцион'))"
   ]
  },
  {
   "cell_type": "code",
   "execution_count": 301,
   "metadata": {
    "ExecuteTime": {
     "end_time": "2019-09-26T07:52:12.898958Z",
     "start_time": "2019-09-26T07:52:12.860Z"
    }
   },
   "outputs": [
    {
     "data": {
      "text/html": [
       "<table>\n",
       "<thead><tr><th scope=col>V1</th><th scope=col>V2</th><th scope=col>V3</th><th scope=col>auc</th><th scope=col>zav</th></tr></thead>\n",
       "<tbody>\n",
       "</tbody>\n",
       "</table>\n"
      ],
      "text/latex": [
       "\\begin{tabular}{r|lllll}\n",
       " V1 & V2 & V3 & auc & zav\\\\\n",
       "\\hline\n",
       "\\end{tabular}\n"
      ],
      "text/markdown": [
       "\n",
       "V1 | V2 | V3 | auc | zav | \n",
       "||\n",
       "\n",
       "\n"
      ],
      "text/plain": [
       "     V1 V2 V3 auc zav"
      ]
     },
     "metadata": {},
     "output_type": "display_data"
    }
   ],
   "source": [
    "table_auction_2[table_auction_2$auc != TRUE,]"
   ]
  },
  {
   "cell_type": "code",
   "execution_count": 302,
   "metadata": {
    "ExecuteTime": {
     "end_time": "2019-09-26T07:52:13.180266Z",
     "start_time": "2019-09-26T07:52:13.122Z"
    }
   },
   "outputs": [],
   "source": [
    "table_auction_2['zav']  <-  lapply(table_auction_2['V1'], function(x) str_detect(x, 'Процедура завершена'))"
   ]
  },
  {
   "cell_type": "code",
   "execution_count": 326,
   "metadata": {
    "ExecuteTime": {
     "end_time": "2019-09-26T09:48:23.776451Z",
     "start_time": "2019-09-26T09:48:22.940Z"
    }
   },
   "outputs": [],
   "source": [
    "# table_auction_2[table_auction_2$zav != TRUE,]"
   ]
  },
  {
   "cell_type": "code",
   "execution_count": 295,
   "metadata": {
    "ExecuteTime": {
     "end_time": "2019-09-26T07:50:28.924066Z",
     "start_time": "2019-09-26T07:50:28.884Z"
    }
   },
   "outputs": [
    {
     "data": {
      "text/html": [
       "<table>\n",
       "<thead><tr><th scope=col>V1</th><th scope=col>V2</th><th scope=col>V3</th><th scope=col>auc</th><th scope=col>zav</th></tr></thead>\n",
       "<tbody>\n",
       "\t<tr><td>Электронный аукцион                                                                                                                                                                                                                                                                                                                                                                                                                                                                                                                                                                                                                                                                                                                                                                                                Процедура завершена /                                                                                                                                                                                                                                                            44-ФЗ                                                                                                                                                                                                                                                                                                                                                                                                Начальная цена                                                                                1 613 000                                        ,00                                    Российский рубль                                                                                                                                                                        </td><td>№ 0354300048517000002                                                                                                                                                                                                                                                                                                                                                                                                                                                                                                                            Заказчик:                                                                                                                                                                                                                                                                                                                                                                                МУНИЦИПАЛЬНОЕ БЮДЖЕТНОЕ ОБРАЗОВАТЕЛЬНОЕ УЧРЕЖДЕНИЕ ДОПОЛНИТЕЛЬНОГО ОБРАЗОВАНИЯ - ЦЕНТР ДОПОЛНИТЕЛЬНОГО ОБРАЗОВАНИЯ \"ЭНЕРГИЯ\"                                                                                                                                                                                                                                                                                                                                                                                                                                                                                    Приобретение микроавтобуса ГАЗель Next                                                                                                                                Идентификационный код закупки(ИКЗ):                                                                                173572100076857210100100030032910244</td><td>Размещено: 12.01.2017                            Обновлено: 27.02.2017                                                                                                                                                                                                                                                                                                                                                                                                                                                                                                                                                                                                                                                                                                                                                                                                                                                                                                                                                                                                                                                                                                                                                                                                                                                                                                                                                                                                                                                                                                                                                                                                                                                                                                                                                                                                                 </td><td>TRUE                                                                                                                                                                                                                                                                                                                                                                                                                                                                                                                                                                                                                                                                                                                                                                                                                                                                                                                                                                                                                                                                                                                                                                                                                                                                                                                                                                                                                                                                                                                                                                                                                                                                                                                                                                                                                                                                                   </td><td>TRUE                                                                                                                                                                                                                                                                                                                                                                                                                                                                                                                                                                                                                                                                                                                                                                                                                                                                                                                                                                                                                                                                                                                                                                                                                                                                                                                                                                                                                                                                                                                                                                                                                                                                                                                                                                                                                                                                                   </td></tr>\n",
       "</tbody>\n",
       "</table>\n"
      ],
      "text/latex": [
       "\\begin{tabular}{r|lllll}\n",
       " V1 & V2 & V3 & auc & zav\\\\\n",
       "\\hline\n",
       "\t Электронный аукцион                                                                                                                                                                                                                                                                                                                                                                                                                                                                                                                                                                                                                                                                                                                                                                                                Процедура завершена /                                                                                                                                                                                                                                                            44-ФЗ                                                                                                                                                                                                                                                                                                                                                                                                Начальная цена                                                                                1 613 000                                        ,00                                    Российский рубль                                                                                                                                                                         & № 0354300048517000002                                                                                                                                                                                                                                                                                                                                                                                                                                                                                                                            Заказчик:                                                                                                                                                                                                                                                                                                                                                                                МУНИЦИПАЛЬНОЕ БЮДЖЕТНОЕ ОБРАЗОВАТЕЛЬНОЕ УЧРЕЖДЕНИЕ ДОПОЛНИТЕЛЬНОГО ОБРАЗОВАНИЯ - ЦЕНТР ДОПОЛНИТЕЛЬНОГО ОБРАЗОВАНИЯ \"ЭНЕРГИЯ\"                                                                                                                                                                                                                                                                                                                                                                                                                                                                                    Приобретение микроавтобуса ГАЗель Next                                                                                                                                Идентификационный код закупки(ИКЗ):                                                                                173572100076857210100100030032910244 & Размещено: 12.01.2017                            Обновлено: 27.02.2017                                                                                                                                                                                                                                                                                                                                                                                                                                                                                                                                                                                                                                                                                                                                                                                                                                                                                                                                                                                                                                                                                                                                                                                                                                                                                                                                                                                                                                                                                                                                                                                                                                                                                                                                                                                                                  & TRUE                                                                                                                                                                                                                                                                                                                                                                                                                                                                                                                                                                                                                                                                                                                                                                                                                                                                                                                                                                                                                                                                                                                                                                                                                                                                                                                                                                                                                                                                                                                                                                                                                                                                                                                                                                                                                                                                                    & TRUE                                                                                                                                                                                                                                                                                                                                                                                                                                                                                                                                                                                                                                                                                                                                                                                                                                                                                                                                                                                                                                                                                                                                                                                                                                                                                                                                                                                                                                                                                                                                                                                                                                                                                                                                                                                                                                                                                   \\\\\n",
       "\\end{tabular}\n"
      ],
      "text/markdown": [
       "\n",
       "V1 | V2 | V3 | auc | zav | \n",
       "|---|\n",
       "| Электронный аукцион                                                                                                                                                                                                                                                                                                                                                                                                                                                                                                                                                                                                                                                                                                                                                                                                Процедура завершена /                                                                                                                                                                                                                                                            44-ФЗ                                                                                                                                                                                                                                                                                                                                                                                                Начальная цена                                                                                1 613 000                                        ,00                                    Российский рубль                                                                                                                                                                         | № 0354300048517000002                                                                                                                                                                                                                                                                                                                                                                                                                                                                                                                            Заказчик:                                                                                                                                                                                                                                                                                                                                                                                МУНИЦИПАЛЬНОЕ БЮДЖЕТНОЕ ОБРАЗОВАТЕЛЬНОЕ УЧРЕЖДЕНИЕ ДОПОЛНИТЕЛЬНОГО ОБРАЗОВАНИЯ - ЦЕНТР ДОПОЛНИТЕЛЬНОГО ОБРАЗОВАНИЯ \"ЭНЕРГИЯ\"                                                                                                                                                                                                                                                                                                                                                                                                                                                                                    Приобретение микроавтобуса ГАЗель Next                                                                                                                                Идентификационный код закупки(ИКЗ):                                                                                173572100076857210100100030032910244 | Размещено: 12.01.2017                            Обновлено: 27.02.2017                                                                                                                                                                                                                                                                                                                                                                                                                                                                                                                                                                                                                                                                                                                                                                                                                                                                                                                                                                                                                                                                                                                                                                                                                                                                                                                                                                                                                                                                                                                                                                                                                                                                                                                                                                                                                  | TRUE                                                                                                                                                                                                                                                                                                                                                                                                                                                                                                                                                                                                                                                                                                                                                                                                                                                                                                                                                                                                                                                                                                                                                                                                                                                                                                                                                                                                                                                                                                                                                                                                                                                                                                                                                                                                                                                                                    | TRUE                                                                                                                                                                                                                                                                                                                                                                                                                                                                                                                                                                                                                                                                                                                                                                                                                                                                                                                                                                                                                                                                                                                                                                                                                                                                                                                                                                                                                                                                                                                                                                                                                                                                                                                                                                                                                                                                                    | \n",
       "\n",
       "\n"
      ],
      "text/plain": [
       "  V1                                                                                                                                                                                                                                                                                                                                                                                                                                                                                                                                                                                                                                                                                                                                                                                                                                                                                                                                                                                                                                                                                                                                                                                                                                                                                                                                                                                                                                                                                                                                                                                                                                                                                                             \n",
       "1 Электронный аукцион                                                                                                                                                                                                                                                                                                                                                                                                                                                                                                                                                                                                                                                                                                                                                                                                Процедура завершена /                                                                                                                                                                                                                                                            44-ФЗ                                                                                                                                                                                                                                                                                                                                                                                                Начальная цена                                                                                1 613 000                                        ,00                                    Российский рубль\n",
       "  V2                                                                                                                                                                                                                                                                                                                                                                                                                                                                                                                                                                                                                                                                                                                                                                                                                                                                                                                                                                                                                                                                                                                                                                                                                                                                                                                                                                                                                                                                                                                                                                                                                                                                                                                                                                                                                                                                                     \n",
       "1 № 0354300048517000002                                                                                                                                                                                                                                                                                                                                                                                                                                                                                                                            Заказчик:                                                                                                                                                                                                                                                                                                                                                                                МУНИЦИПАЛЬНОЕ БЮДЖЕТНОЕ ОБРАЗОВАТЕЛЬНОЕ УЧРЕЖДЕНИЕ ДОПОЛНИТЕЛЬНОГО ОБРАЗОВАНИЯ - ЦЕНТР ДОПОЛНИТЕЛЬНОГО ОБРАЗОВАНИЯ \"ЭНЕРГИЯ\"                                                                                                                                                                                                                                                                                                                                                                                                                                                                                    Приобретение микроавтобуса ГАЗель Next                                                                                                                                Идентификационный код закупки(ИКЗ):                                                                                173572100076857210100100030032910244\n",
       "  V3                                                                     auc \n",
       "1 Размещено: 12.01.2017                            Обновлено: 27.02.2017 TRUE\n",
       "  zav \n",
       "1 TRUE"
      ]
     },
     "metadata": {},
     "output_type": "display_data"
    }
   ],
   "source": [
    "table_auction_2[1,]"
   ]
  },
  {
   "cell_type": "code",
   "execution_count": 323,
   "metadata": {
    "ExecuteTime": {
     "end_time": "2019-09-26T08:00:57.524460Z",
     "start_time": "2019-09-26T08:00:57.462Z"
    }
   },
   "outputs": [],
   "source": [
    "table_auction_2['car_auto_t']  <-  lapply(table_auction_2['V2'], function(x) str_detect(x, 'автомобил') )"
   ]
  },
  {
   "cell_type": "code",
   "execution_count": 324,
   "metadata": {
    "ExecuteTime": {
     "end_time": "2019-09-26T08:00:58.125645Z",
     "start_time": "2019-09-26T08:00:58.060Z"
    }
   },
   "outputs": [],
   "source": [
    "table_auction_2['car_autocap_t']  <-  lapply(table_auction_2['V2'], function(x) str_detect(x, 'Aвтомобил'))"
   ]
  },
  {
   "cell_type": "code",
   "execution_count": 325,
   "metadata": {
    "ExecuteTime": {
     "end_time": "2019-09-26T08:00:58.431732Z",
     "start_time": "2019-09-26T08:00:58.406Z"
    }
   },
   "outputs": [
    {
     "data": {
      "text/html": [
       "<table>\n",
       "<thead><tr><th scope=col>V1</th><th scope=col>V2</th><th scope=col>V3</th><th scope=col>auc</th><th scope=col>zav</th><th scope=col>car_auto_t</th><th scope=col>car_autocap_t</th></tr></thead>\n",
       "<tbody>\n",
       "</tbody>\n",
       "</table>\n"
      ],
      "text/latex": [
       "\\begin{tabular}{r|lllllll}\n",
       " V1 & V2 & V3 & auc & zav & car\\_auto\\_t & car\\_autocap\\_t\\\\\n",
       "\\hline\n",
       "\\end{tabular}\n"
      ],
      "text/markdown": [
       "\n",
       "V1 | V2 | V3 | auc | zav | car_auto_t | car_autocap_t | \n",
       "||\n",
       "\n",
       "\n"
      ],
      "text/plain": [
       "     V1 V2 V3 auc zav car_auto_t car_autocap_t"
      ]
     },
     "metadata": {},
     "output_type": "display_data"
    }
   ],
   "source": [
    "table_auction_2[table_auction_2$car_autocap_t == TRUE,]"
   ]
  }
 ],
 "metadata": {
  "hide_input": false,
  "kernelspec": {
   "display_name": "R 3.5.1",
   "language": "R",
   "name": "ir"
  },
  "language_info": {
   "codemirror_mode": "r",
   "file_extension": ".r",
   "mimetype": "text/x-r-source",
   "name": "R",
   "pygments_lexer": "r",
   "version": "3.5.2"
  },
  "latex_envs": {
   "LaTeX_envs_menu_present": true,
   "autoclose": true,
   "autocomplete": true,
   "bibliofile": "biblio.bib",
   "cite_by": "apalike",
   "current_citInitial": 1,
   "eqLabelWithNumbers": true,
   "eqNumInitial": 1,
   "hotkeys": {
    "equation": "Ctrl-E",
    "itemize": "Ctrl-I"
   },
   "labels_anchors": false,
   "latex_user_defs": false,
   "report_style_numbering": false,
   "user_envs_cfg": false
  },
  "toc": {
   "base_numbering": 1,
   "nav_menu": {},
   "number_sections": true,
   "sideBar": true,
   "skip_h1_title": false,
   "title_cell": "Table of Contents",
   "title_sidebar": "Contents",
   "toc_cell": false,
   "toc_position": {},
   "toc_section_display": true,
   "toc_window_display": false
  },
  "varInspector": {
   "cols": {
    "lenName": 16,
    "lenType": 16,
    "lenVar": 40
   },
   "kernels_config": {
    "python": {
     "delete_cmd_postfix": "",
     "delete_cmd_prefix": "del ",
     "library": "var_list.py",
     "varRefreshCmd": "print(var_dic_list())"
    },
    "r": {
     "delete_cmd_postfix": ") ",
     "delete_cmd_prefix": "rm(",
     "library": "var_list.r",
     "varRefreshCmd": "cat(var_dic_list()) "
    }
   },
   "types_to_exclude": [
    "module",
    "function",
    "builtin_function_or_method",
    "instance",
    "_Feature"
   ],
   "window_display": false
  }
 },
 "nbformat": 4,
 "nbformat_minor": 2
}
