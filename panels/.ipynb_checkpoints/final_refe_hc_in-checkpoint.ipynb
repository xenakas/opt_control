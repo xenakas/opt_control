{
 "cells": [
  {
   "cell_type": "code",
   "execution_count": 107,
   "metadata": {},
   "outputs": [],
   "source": [
    "library('plm')"
   ]
  },
  {
   "cell_type": "code",
   "execution_count": 109,
   "metadata": {},
   "outputs": [],
   "source": [
    "df_ihh  <-  read.csv(file=\"raw_full.csv\", header=TRUE, sep=\",\")"
   ]
  },
  {
   "cell_type": "code",
   "execution_count": 110,
   "metadata": {},
   "outputs": [],
   "source": [
    "df_ihh[is.na(df_ihh)] <- 0"
   ]
  },
  {
   "cell_type": "code",
   "execution_count": 111,
   "metadata": {},
   "outputs": [
    {
     "data": {
      "text/html": [
       "<table>\n",
       "<thead><tr><th></th><th scope=col>IHH</th><th scope=col>MA</th></tr></thead>\n",
       "<tbody>\n",
       "\t<tr><th scope=row>1</th><td> 86.41889</td><td> 34351.51</td></tr>\n",
       "\t<tr><th scope=row>19</th><td> 91.33739</td><td> 51898.21</td></tr>\n",
       "\t<tr><th scope=row>37</th><td> 98.72069</td><td>109740.54</td></tr>\n",
       "\t<tr><th scope=row>55</th><td>110.62707</td><td>307476.86</td></tr>\n",
       "\t<tr><th scope=row>72</th><td> 13.92440</td><td> 46197.60</td></tr>\n",
       "</tbody>\n",
       "</table>\n"
      ],
      "text/latex": [
       "\\begin{tabular}{r|ll}\n",
       "  & IHH & MA\\\\\n",
       "\\hline\n",
       "\t1 &  86.41889 &  34351.51\\\\\n",
       "\t19 &  91.33739 &  51898.21\\\\\n",
       "\t37 &  98.72069 & 109740.54\\\\\n",
       "\t55 & 110.62707 & 307476.86\\\\\n",
       "\t72 &  13.92440 &  46197.60\\\\\n",
       "\\end{tabular}\n"
      ],
      "text/markdown": [
       "\n",
       "| <!--/--> | IHH | MA | \n",
       "|---|---|---|---|---|\n",
       "| 1 |  86.41889 |  34351.51 | \n",
       "| 19 |  91.33739 |  51898.21 | \n",
       "| 37 |  98.72069 | 109740.54 | \n",
       "| 55 | 110.62707 | 307476.86 | \n",
       "| 72 |  13.92440 |  46197.60 | \n",
       "\n",
       "\n"
      ],
      "text/plain": [
       "   IHH       MA       \n",
       "1   86.41889  34351.51\n",
       "19  91.33739  51898.21\n",
       "37  98.72069 109740.54\n",
       "55 110.62707 307476.86\n",
       "72  13.92440  46197.60"
      ]
     },
     "metadata": {},
     "output_type": "display_data"
    }
   ],
   "source": [
    "df_ihh[df_ihh$otrasl == 'IT', c('IHH', 'MA')] "
   ]
  },
  {
   "cell_type": "code",
   "execution_count": 112,
   "metadata": {},
   "outputs": [],
   "source": [
    "df_ihh = pdata.frame(df_ihh, index = c('otrasl','year'))"
   ]
  },
  {
   "cell_type": "code",
   "execution_count": 113,
   "metadata": {},
   "outputs": [],
   "source": [
    "df_ihh$real_prices[df_ihh$real_prices == 0] <- NA"
   ]
  },
  {
   "cell_type": "code",
   "execution_count": 114,
   "metadata": {},
   "outputs": [],
   "source": [
    "df_ihh['log_ihh'] = log(df_ihh$IHH)\n",
    "# df_ihh['log_ma'] = log(df_ihh$MA)"
   ]
  },
  {
   "cell_type": "code",
   "execution_count": 115,
   "metadata": {},
   "outputs": [],
   "source": [
    "#df_ihh['MA'] = df_ihh$value_in\n",
    "df_ihh['in_lag'] = lag(df_ihh$value_in, 1)\n",
    "df_ihh['inout_lag'] = lag(df_ihh$value_inout, 1)\n",
    "df_ihh['outin_lag'] = lag(df_ihh$value_outin, 1)"
   ]
  },
  {
   "cell_type": "code",
   "execution_count": 116,
   "metadata": {},
   "outputs": [],
   "source": [
    "# df_lag = lag(df_ihh$MA, 1)"
   ]
  },
  {
   "cell_type": "code",
   "execution_count": 117,
   "metadata": {},
   "outputs": [],
   "source": [
    "df_ihh_part = df_ihh[df_ihh$otrasl != 'IT', ] "
   ]
  },
  {
   "cell_type": "code",
   "execution_count": 118,
   "metadata": {},
   "outputs": [],
   "source": [
    "library(gplots)"
   ]
  },
  {
   "cell_type": "code",
   "execution_count": 119,
   "metadata": {},
   "outputs": [
    {
     "data": {
      "text/plain": [
       "\n",
       "Call:\n",
       "lm(formula = log_ihh ~ value_in + in_lag + value_outin + outin_lag + \n",
       "    value_inout + inout_lag + log(real_prices) + real_gdp_change + \n",
       "    type_1 + type_2 + type_3, data = df_ihh_part)\n",
       "\n",
       "Residuals:\n",
       "    Min      1Q  Median      3Q     Max \n",
       "-1.9364 -0.6291 -0.1444  0.4579  3.8339 \n",
       "\n",
       "Coefficients:\n",
       "                   Estimate Std. Error t value Pr(>|t|)    \n",
       "(Intercept)       5.547e+00  1.362e+00   4.073 0.000153 ***\n",
       "value_in          6.565e-05  2.623e-05   2.502 0.015392 *  \n",
       "in_lag            9.033e-06  2.018e-05   0.448 0.656163    \n",
       "value_outin       3.954e-05  1.836e-05   2.153 0.035805 *  \n",
       "outin_lag         4.022e-05  1.957e-05   2.055 0.044736 *  \n",
       "value_inout       1.109e-06  7.165e-06   0.155 0.877565    \n",
       "inout_lag        -5.066e-06  1.133e-05  -0.447 0.656460    \n",
       "log(real_prices) -1.205e-01  1.303e-01  -0.924 0.359535    \n",
       "real_gdp_change   1.145e-04  1.416e-04   0.808 0.422402    \n",
       "type_1            1.678e-01  4.497e-01   0.373 0.710475    \n",
       "type_2            8.340e-01  4.339e-01   1.922 0.059893 .  \n",
       "type_3            1.776e-01  8.825e-01   0.201 0.841227    \n",
       "---\n",
       "Signif. codes:  0 ‘***’ 0.001 ‘**’ 0.01 ‘*’ 0.05 ‘.’ 0.1 ‘ ’ 1\n",
       "\n",
       "Residual standard error: 1.292 on 54 degrees of freedom\n",
       "  (18 observations deleted due to missingness)\n",
       "Multiple R-squared:  0.3225,\tAdjusted R-squared:  0.1845 \n",
       "F-statistic: 2.337 on 11 and 54 DF,  p-value: 0.01954\n"
      ]
     },
     "metadata": {},
     "output_type": "display_data"
    }
   ],
   "source": [
    "ols <-lm(log_ihh~value_in+in_lag+value_outin+outin_lag+value_inout+inout_lag+log(real_prices)+real_gdp_change+type_1+type_2+type_3, data = df_ihh_part)\n",
    "summary(ols)"
   ]
  },
  {
   "cell_type": "code",
   "execution_count": 120,
   "metadata": {},
   "outputs": [],
   "source": [
    "library(ggplot2)"
   ]
  },
  {
   "cell_type": "code",
   "execution_count": 121,
   "metadata": {},
   "outputs": [
    {
     "data": {
      "text/html": [
       "<ol class=list-inline>\n",
       "\t<li>89</li>\n",
       "\t<li>18</li>\n",
       "</ol>\n"
      ],
      "text/latex": [
       "\\begin{enumerate*}\n",
       "\\item 89\n",
       "\\item 18\n",
       "\\end{enumerate*}\n"
      ],
      "text/markdown": [
       "1. 89\n",
       "2. 18\n",
       "\n",
       "\n"
      ],
      "text/plain": [
       "[1] 89 18"
      ]
     },
     "metadata": {},
     "output_type": "display_data"
    }
   ],
   "source": [
    "dim(df_ihh)"
   ]
  },
  {
   "cell_type": "code",
   "execution_count": 122,
   "metadata": {},
   "outputs": [
    {
     "data": {
      "text/plain": [
       "\n",
       "Call:\n",
       "lm(formula = log_ihh ~ value_in + in_lag + value_outin + outin_lag + \n",
       "    value_inout + inout_lag + log(real_prices) + real_gdp_change + \n",
       "    type_1 + type_2 + type_3 + factor(otrasl) - 1, data = df_ihh_part)\n",
       "\n",
       "Residuals:\n",
       "     Min       1Q   Median       3Q      Max \n",
       "-0.32119 -0.04829 -0.00499  0.04974  0.25610 \n",
       "\n",
       "Coefficients:\n",
       "                                     Estimate Std. Error t value Pr(>|t|)    \n",
       "value_in                            8.345e-06  3.494e-06   2.388   0.0220 *  \n",
       "in_lag                              3.957e-06  2.475e-06   1.599   0.1181    \n",
       "value_outin                         2.246e-06  3.766e-06   0.596   0.5544    \n",
       "outin_lag                           2.458e-06  3.521e-06   0.698   0.4894    \n",
       "value_inout                         2.992e-07  1.151e-06   0.260   0.7963    \n",
       "inout_lag                          -1.077e-06  1.647e-06  -0.654   0.5173    \n",
       "log(real_prices)                   -1.761e-02  2.765e-02  -0.637   0.5281    \n",
       "real_gdp_change                     1.629e-05  1.622e-05   1.004   0.3218    \n",
       "type_1                              1.404e-01  1.444e-01   0.972   0.3370    \n",
       "type_2                             -5.645e-01  2.649e-01  -2.131   0.0397 *  \n",
       "type_3                             -5.207e-01  1.971e-01  -2.641   0.0119 *  \n",
       "factor(otrasl)ДОБЫЧА                7.121e+00  2.789e-01  25.537  < 2e-16 ***\n",
       "factor(otrasl)ЛЕГКАЯ                4.994e+00  2.386e-01  20.933  < 2e-16 ***\n",
       "factor(otrasl)ЛЕСНАЯ                4.661e+00  2.742e-01  16.995  < 2e-16 ***\n",
       "factor(otrasl)МАШИНОСТРОЕНИЕ        4.699e+00  2.784e-01  16.877  < 2e-16 ***\n",
       "factor(otrasl)МЕТАЛЛУРГИЯ           6.586e+00  3.668e-01  17.953  < 2e-16 ***\n",
       "factor(otrasl)НЕФТЕХИМ              6.316e+00  3.827e-01  16.505  < 2e-16 ***\n",
       "factor(otrasl)ПИЩЕВАЯ               4.019e+00  2.752e-01  14.601  < 2e-16 ***\n",
       "factor(otrasl)СВЯЗЬ                 7.209e+00  2.951e-01  24.424  < 2e-16 ***\n",
       "factor(otrasl)СЕЛЬХОЗ               3.010e+00  3.037e-01   9.911 4.37e-12 ***\n",
       "factor(otrasl)СМИ                   6.533e+00  3.891e-01  16.790  < 2e-16 ***\n",
       "factor(otrasl)СПОРТ                 6.521e+00  3.718e-01  17.540  < 2e-16 ***\n",
       "factor(otrasl)СТРОИТЕЛЬСТВО         4.052e+00  3.417e-01  11.860 2.43e-14 ***\n",
       "factor(otrasl)ТОРГОВЛЯ              4.991e+00  3.446e-01  14.483  < 2e-16 ***\n",
       "factor(otrasl)ТЭК                   6.822e+00  3.991e-01  17.092  < 2e-16 ***\n",
       "factor(otrasl)УСЛУГИ                3.268e+00  2.998e-01  10.898 2.97e-13 ***\n",
       "factor(otrasl)ФИНАНСОВЫЕ ИНСТИТУТЫ  8.457e+00  3.203e-01  26.401  < 2e-16 ***\n",
       "factor(otrasl)ЭЛЕКТРОЭНЕРГЕТИКА     5.007e+00  3.097e-01  16.165  < 2e-16 ***\n",
       "---\n",
       "Signif. codes:  0 ‘***’ 0.001 ‘**’ 0.01 ‘*’ 0.05 ‘.’ 0.1 ‘ ’ 1\n",
       "\n",
       "Residual standard error: 0.1422 on 38 degrees of freedom\n",
       "  (18 observations deleted due to missingness)\n",
       "Multiple R-squared:  0.9996,\tAdjusted R-squared:  0.9993 \n",
       "F-statistic:  3510 on 28 and 38 DF,  p-value: < 2.2e-16\n"
      ]
     },
     "metadata": {},
     "output_type": "display_data"
    }
   ],
   "source": [
    "fixed.dum <-lm(log_ihh~value_in+in_lag+value_outin+outin_lag+value_inout+inout_lag+log(real_prices)+real_gdp_change+type_1+type_2+type_3 + factor(otrasl) - 1, data = df_ihh_part)\n",
    "summary(fixed.dum)"
   ]
  },
  {
   "cell_type": "code",
   "execution_count": 123,
   "metadata": {},
   "outputs": [],
   "source": [
    "library(car)  "
   ]
  },
  {
   "cell_type": "code",
   "execution_count": 124,
   "metadata": {},
   "outputs": [],
   "source": [
    "# yhat <- fixed.dum$fitted\n",
    "# scatterplot(yhat ~ df_ihh_omit$log_ma | df_ihh_omit$otrasl,  xlab =\"x1\", ylab =\"yhat\", boxplots = FALSE,smooth = FALSE)\n",
    "# abline(lm(df_ihh_omit$log_ihh~df_ihh_omit$log_ma), lwd=3, col=\"red\")"
   ]
  },
  {
   "cell_type": "code",
   "execution_count": 133,
   "metadata": {},
   "outputs": [
    {
     "data": {
      "text/plain": [
       "Oneway (individual) effect Within Model\n",
       "\n",
       "Call:\n",
       "plm(formula = log_ihh ~ value_in + in_lag + value_outin + outin_lag + \n",
       "    value_inout + inout_lag + log(real_prices) + real_gdp_change + \n",
       "    type_1 + type_2 + type_3 + type_4, data = df_ihh_part, model = \"within\")\n",
       "\n",
       "Unbalanced Panel: n = 17, T = 2-4, N = 66\n",
       "\n",
       "Residuals:\n",
       "      Min.    1st Qu.     Median    3rd Qu.       Max. \n",
       "-0.3211940 -0.0482878 -0.0049891  0.0497388  0.2561024 \n",
       "\n",
       "Coefficients: (1 dropped because of singularities)\n",
       "                    Estimate  Std. Error t-value Pr(>|t|)  \n",
       "value_in          8.3446e-06  3.4938e-06  2.3884  0.02199 *\n",
       "in_lag            3.9575e-06  2.4751e-06  1.5989  0.11813  \n",
       "value_outin       2.2463e-06  3.7660e-06  0.5965  0.55440  \n",
       "outin_lag         2.4579e-06  3.5209e-06  0.6981  0.48937  \n",
       "value_inout       2.9922e-07  1.1509e-06  0.2600  0.79629  \n",
       "inout_lag        -1.0766e-06  1.6469e-06 -0.6537  0.51725  \n",
       "log(real_prices) -1.7605e-02  2.7647e-02 -0.6368  0.52808  \n",
       "real_gdp_change   1.6286e-05  1.6222e-05  1.0040  0.32175  \n",
       "type_1            1.4040e-01  1.4440e-01  0.9723  0.33704  \n",
       "type_2           -5.6447e-01  2.6494e-01 -2.1305  0.03966 *\n",
       "type_3           -5.2073e-01  1.9715e-01 -2.6413  0.01192 *\n",
       "---\n",
       "Signif. codes:  0 ‘***’ 0.001 ‘**’ 0.01 ‘*’ 0.05 ‘.’ 0.1 ‘ ’ 1\n",
       "\n",
       "Total Sum of Squares:    1.0267\n",
       "Residual Sum of Squares: 0.76855\n",
       "R-Squared:      0.25146\n",
       "Adj. R-Squared: -0.28039\n",
       "F-statistic: 1.16051 on 11 and 38 DF, p-value: 0.34554"
      ]
     },
     "metadata": {},
     "output_type": "display_data"
    }
   ],
   "source": [
    "fixed <- plm(log_ihh~value_in+in_lag+value_outin+outin_lag+value_inout+inout_lag+log(real_prices)+real_gdp_change+type_1+type_2+type_3+type_4, data = df_ihh_part, model=\"within\")\n",
    "summary(fixed)"
   ]
  },
  {
   "cell_type": "code",
   "execution_count": 134,
   "metadata": {},
   "outputs": [
    {
     "data": {
      "text/html": [
       "<dl class=dl-horizontal>\n",
       "\t<dt>ДОБЫЧА</dt>\n",
       "\t\t<dd>7.12112311237016</dd>\n",
       "\t<dt>ЛЕГКАЯ</dt>\n",
       "\t\t<dd>4.99444807008673</dd>\n",
       "\t<dt>ЛЕСНАЯ</dt>\n",
       "\t\t<dd>4.66066212258708</dd>\n",
       "\t<dt>МАШИНОСТРОЕНИЕ</dt>\n",
       "\t\t<dd>4.69940527788032</dd>\n",
       "\t<dt>МЕТАЛЛУРГИЯ</dt>\n",
       "\t\t<dd>6.58587235642602</dd>\n",
       "\t<dt>НЕФТЕХИМ</dt>\n",
       "\t\t<dd>6.31642075885985</dd>\n",
       "\t<dt>ПИЩЕВАЯ</dt>\n",
       "\t\t<dd>4.01860585862612</dd>\n",
       "\t<dt>СВЯЗЬ</dt>\n",
       "\t\t<dd>7.20851869902097</dd>\n",
       "\t<dt>СЕЛЬХОЗ</dt>\n",
       "\t\t<dd>3.0097663523686</dd>\n",
       "\t<dt>СМИ</dt>\n",
       "\t\t<dd>6.53270424808246</dd>\n",
       "\t<dt>СПОРТ</dt>\n",
       "\t\t<dd>6.52093525535421</dd>\n",
       "\t<dt>СТРОИТЕЛЬСТВО</dt>\n",
       "\t\t<dd>4.05221857829837</dd>\n",
       "\t<dt>ТОРГОВЛЯ</dt>\n",
       "\t\t<dd>4.99097792322535</dd>\n",
       "\t<dt>ТЭК</dt>\n",
       "\t\t<dd>6.82191167296472</dd>\n",
       "\t<dt>УСЛУГИ</dt>\n",
       "\t\t<dd>3.26773354669566</dd>\n",
       "\t<dt>ФИНАНСОВЫЕ ИНСТИТУТЫ</dt>\n",
       "\t\t<dd>8.45653433870194</dd>\n",
       "\t<dt>ЭЛЕКТРОЭНЕРГЕТИКА</dt>\n",
       "\t\t<dd>5.0066399388777</dd>\n",
       "</dl>\n"
      ],
      "text/latex": [
       "\\begin{description*}\n",
       "\\item[ДОБЫЧА] 7.12112311237016\n",
       "\\item[ЛЕГКАЯ] 4.99444807008673\n",
       "\\item[ЛЕСНАЯ] 4.66066212258708\n",
       "\\item[МАШИНОСТРОЕНИЕ] 4.69940527788032\n",
       "\\item[МЕТАЛЛУРГИЯ] 6.58587235642602\n",
       "\\item[НЕФТЕХИМ] 6.31642075885985\n",
       "\\item[ПИЩЕВАЯ] 4.01860585862612\n",
       "\\item[СВЯЗЬ] 7.20851869902097\n",
       "\\item[СЕЛЬХОЗ] 3.0097663523686\n",
       "\\item[СМИ] 6.53270424808246\n",
       "\\item[СПОРТ] 6.52093525535421\n",
       "\\item[СТРОИТЕЛЬСТВО] 4.05221857829837\n",
       "\\item[ТОРГОВЛЯ] 4.99097792322535\n",
       "\\item[ТЭК] 6.82191167296472\n",
       "\\item[УСЛУГИ] 3.26773354669566\n",
       "\\item[ФИНАНСОВЫЕ ИНСТИТУТЫ] 8.45653433870194\n",
       "\\item[ЭЛЕКТРОЭНЕРГЕТИКА] 5.0066399388777\n",
       "\\end{description*}\n"
      ],
      "text/markdown": [
       "ДОБЫЧА\n",
       ":   7.12112311237016ЛЕГКАЯ\n",
       ":   4.99444807008673ЛЕСНАЯ\n",
       ":   4.66066212258708МАШИНОСТРОЕНИЕ\n",
       ":   4.69940527788032МЕТАЛЛУРГИЯ\n",
       ":   6.58587235642602НЕФТЕХИМ\n",
       ":   6.31642075885985ПИЩЕВАЯ\n",
       ":   4.01860585862612СВЯЗЬ\n",
       ":   7.20851869902097СЕЛЬХОЗ\n",
       ":   3.0097663523686СМИ\n",
       ":   6.53270424808246СПОРТ\n",
       ":   6.52093525535421СТРОИТЕЛЬСТВО\n",
       ":   4.05221857829837ТОРГОВЛЯ\n",
       ":   4.99097792322535ТЭК\n",
       ":   6.82191167296472УСЛУГИ\n",
       ":   3.26773354669566ФИНАНСОВЫЕ ИНСТИТУТЫ\n",
       ":   8.45653433870194ЭЛЕКТРОЭНЕРГЕТИКА\n",
       ":   5.0066399388777\n",
       "\n"
      ],
      "text/plain": [
       "              ДОБЫЧА               ЛЕГКАЯ               ЛЕСНАЯ \n",
       "            7.121123             4.994448             4.660662 \n",
       "      МАШИНОСТРОЕНИЕ          МЕТАЛЛУРГИЯ             НЕФТЕХИМ \n",
       "            4.699405             6.585872             6.316421 \n",
       "             ПИЩЕВАЯ                СВЯЗЬ              СЕЛЬХОЗ \n",
       "            4.018606             7.208519             3.009766 \n",
       "                 СМИ                СПОРТ        СТРОИТЕЛЬСТВО \n",
       "            6.532704             6.520935             4.052219 \n",
       "            ТОРГОВЛЯ                  ТЭК               УСЛУГИ \n",
       "            4.990978             6.821912             3.267734 \n",
       "ФИНАНСОВЫЕ ИНСТИТУТЫ    ЭЛЕКТРОЭНЕРГЕТИКА \n",
       "            8.456534             5.006640 "
      ]
     },
     "metadata": {},
     "output_type": "display_data"
    }
   ],
   "source": [
    "fixef(fixed)"
   ]
  },
  {
   "cell_type": "code",
   "execution_count": 135,
   "metadata": {},
   "outputs": [
    {
     "data": {
      "text/plain": [
       "\n",
       "\tF test for individual effects\n",
       "\n",
       "data:  log_ihh ~ value_in + in_lag + value_outin + outin_lag + value_inout +  ...\n",
       "F = 276.32, df1 = 16, df2 = 38, p-value < 2.2e-16\n",
       "alternative hypothesis: significant effects\n"
      ]
     },
     "metadata": {},
     "output_type": "display_data"
    }
   ],
   "source": [
    "pFtest(fixed, ols)"
   ]
  },
  {
   "cell_type": "markdown",
   "metadata": {},
   "source": [
    "p-value < 0.05 выбираем fe model "
   ]
  },
  {
   "cell_type": "code",
   "execution_count": 140,
   "metadata": {},
   "outputs": [
    {
     "data": {
      "text/plain": [
       "Oneway (individual) effect Random Effect Model \n",
       "   (Swamy-Arora's transformation)\n",
       "\n",
       "Call:\n",
       "plm(formula = log_ihh ~ value_in + in_lag + value_outin + outin_lag + \n",
       "    value_inout + inout_lag + log(real_prices) + real_gdp_change + \n",
       "    type_1 + type_2 + type_3 + type_4, data = df_ihh_part, model = \"random\")\n",
       "\n",
       "Unbalanced Panel: n = 17, T = 2-4, N = 66\n",
       "\n",
       "Effects:\n",
       "                  var std.dev share\n",
       "idiosyncratic 0.02077 0.14412 0.084\n",
       "individual    0.22506 0.47441 0.916\n",
       "theta:\n",
       "   Min. 1st Qu.  Median    Mean 3rd Qu.    Max. \n",
       " 0.7900  0.8498  0.8498  0.8480  0.8498  0.8498 \n",
       "\n",
       "Residuals:\n",
       "    Min.  1st Qu.   Median     Mean  3rd Qu.     Max. \n",
       "-0.40784 -0.10629 -0.01584 -0.00142  0.06876  0.39650 \n",
       "\n",
       "Coefficients:\n",
       "                    Estimate  Std. Error z-value  Pr(>|z|)    \n",
       "(Intercept)       4.2700e+00  3.4803e-01 12.2692 < 2.2e-16 ***\n",
       "value_in          1.0852e-05  3.8288e-06  2.8343  0.004592 ** \n",
       "in_lag            5.0044e-06  2.7482e-06  1.8210  0.068609 .  \n",
       "value_outin       2.7399e-06  4.0183e-06  0.6818  0.495339    \n",
       "outin_lag         2.1359e-06  3.7999e-06  0.5621  0.574056    \n",
       "value_inout       1.0468e-07  1.2546e-06  0.0834  0.933501    \n",
       "inout_lag        -1.2941e-06  1.8211e-06 -0.7106  0.477321    \n",
       "log(real_prices) -2.6074e-02  2.9630e-02 -0.8800  0.378878    \n",
       "real_gdp_change   1.0337e-05  1.8199e-05  0.5680  0.570037    \n",
       "type_1            3.5097e-01  1.4937e-01  2.3497  0.018790 *  \n",
       "type_2            2.0261e+00  2.9649e-01  6.8338  8.27e-12 ***\n",
       "type_3            2.2237e+00  2.9653e-01  7.4990  6.43e-14 ***\n",
       "type_4            2.9925e+00  3.1175e-01  9.5992 < 2.2e-16 ***\n",
       "---\n",
       "Signif. codes:  0 ‘***’ 0.001 ‘**’ 0.01 ‘*’ 0.05 ‘.’ 0.1 ‘ ’ 1\n",
       "\n",
       "Total Sum of Squares:    4.1305\n",
       "Residual Sum of Squares: 1.3587\n",
       "R-Squared:      0.67161\n",
       "Adj. R-Squared: 0.59726\n",
       "Chisq: 108.121 on 12 DF, p-value: < 2.22e-16"
      ]
     },
     "metadata": {},
     "output_type": "display_data"
    }
   ],
   "source": [
    "random <- plm(log_ihh~value_in+in_lag+value_outin+outin_lag+value_inout+inout_lag+log(real_prices)+ real_gdp_change+type_1+type_2+type_3+type_4, data = df_ihh_part, model=\"random\")\n",
    "summary(random)"
   ]
  },
  {
   "cell_type": "code",
   "execution_count": 141,
   "metadata": {},
   "outputs": [
    {
     "data": {
      "text/plain": [
       "\n",
       "\tHausman Test\n",
       "\n",
       "data:  log_ihh ~ value_in + in_lag + value_outin + outin_lag + value_inout +  ...\n",
       "chisq = 68.202, df = 11, p-value = 2.68e-10\n",
       "alternative hypothesis: one model is inconsistent\n"
      ]
     },
     "metadata": {},
     "output_type": "display_data"
    }
   ],
   "source": [
    "phtest(fixed, random)"
   ]
  },
  {
   "cell_type": "markdown",
   "metadata": {},
   "source": [
    "p-value < 0.5 используем  FE модель"
   ]
  },
  {
   "cell_type": "code",
   "execution_count": 142,
   "metadata": {},
   "outputs": [
    {
     "data": {
      "text/plain": [
       "Oneway (individual) effect Within Model\n",
       "\n",
       "Call:\n",
       "plm(formula = log_ihh ~ value_in + in_lag + value_outin + outin_lag + \n",
       "    value_inout + inout_lag + log(real_prices) + real_gdp_change + \n",
       "    type_1 + type_2 + type_3 + factor(year), data = df_ihh_part, \n",
       "    model = \"within\")\n",
       "\n",
       "Unbalanced Panel: n = 17, T = 2-4, N = 66\n",
       "\n",
       "Residuals:\n",
       "      Min.    1st Qu.     Median    3rd Qu.       Max. \n",
       "-0.2917076 -0.0543968 -0.0031745  0.0502260  0.2573000 \n",
       "\n",
       "Coefficients: (1 dropped because of singularities)\n",
       "                    Estimate  Std. Error t-value Pr(>|t|)  \n",
       "value_in          8.4302e-06  3.5829e-06  2.3529  0.02421 *\n",
       "in_lag            4.2169e-06  2.5732e-06  1.6388  0.10997  \n",
       "value_outin       3.0250e-06  3.9467e-06  0.7665  0.44840  \n",
       "outin_lag         2.4818e-06  3.6266e-06  0.6843  0.49815  \n",
       "value_inout       3.0014e-07  1.2242e-06  0.2452  0.80771  \n",
       "inout_lag        -1.2777e-06  1.6942e-06 -0.7542  0.45565  \n",
       "log(real_prices) -1.7758e-02  2.8353e-02 -0.6263  0.53507  \n",
       "real_gdp_change   5.6783e-05  6.9640e-05  0.8154  0.42022  \n",
       "type_1            1.6253e-01  1.5010e-01  1.0828  0.28608  \n",
       "type_2           -6.1938e-01  2.7753e-01 -2.2318  0.03195 *\n",
       "type_3           -5.6692e-01  2.0857e-01 -2.7182  0.01003 *\n",
       "factor(year)2015  1.2861e-01  2.0246e-01  0.6352  0.52928  \n",
       "factor(year)2016  4.2983e-02  5.2980e-02  0.8113  0.42252  \n",
       "---\n",
       "Signif. codes:  0 ‘***’ 0.001 ‘**’ 0.01 ‘*’ 0.05 ‘.’ 0.1 ‘ ’ 1\n",
       "\n",
       "Total Sum of Squares:    1.0267\n",
       "Residual Sum of Squares: 0.75306\n",
       "R-Squared:      0.26654\n",
       "Adj. R-Squared: -0.3243\n",
       "F-statistic: 1.00636 on 13 and 36 DF, p-value: 0.46582"
      ]
     },
     "metadata": {},
     "output_type": "display_data"
    }
   ],
   "source": [
    "fixed.time <- plm(log_ihh~value_in+in_lag+value_outin+outin_lag+value_inout+inout_lag+log(real_prices)+real_gdp_change+type_1+type_2+type_3 + factor(year), data=df_ihh_part, model=\"within\")\n",
    "summary(fixed.time)\n",
    "\n"
   ]
  },
  {
   "cell_type": "code",
   "execution_count": 143,
   "metadata": {},
   "outputs": [
    {
     "data": {
      "text/plain": [
       "\n",
       "\tF test for individual effects\n",
       "\n",
       "data:  log_ihh ~ value_in + in_lag + value_outin + outin_lag + value_inout +  ...\n",
       "F = 0.37011, df1 = 2, df2 = 36, p-value = 0.6933\n",
       "alternative hypothesis: significant effects\n"
      ]
     },
     "metadata": {},
     "output_type": "display_data"
    }
   ],
   "source": [
    "pFtest(fixed.time, fixed)"
   ]
  },
  {
   "cell_type": "code",
   "execution_count": 144,
   "metadata": {},
   "outputs": [
    {
     "data": {
      "text/plain": [
       "\n",
       "\tLagrange Multiplier Test - time effects (Breusch-Pagan) for unbalanced\n",
       "\tpanels\n",
       "\n",
       "data:  log_ihh ~ value_in + in_lag + value_outin + outin_lag + value_inout +  ...\n",
       "chisq = 1.2859, df = 1, p-value = 0.2568\n",
       "alternative hypothesis: significant effects\n"
      ]
     },
     "metadata": {},
     "output_type": "display_data"
    }
   ],
   "source": [
    "plmtest(fixed, c(\"time\"), type=(\"bp\"))"
   ]
  },
  {
   "cell_type": "markdown",
   "metadata": {},
   "source": [
    "нет фиксированных временных эффектов"
   ]
  },
  {
   "cell_type": "code",
   "execution_count": 145,
   "metadata": {},
   "outputs": [
    {
     "data": {
      "text/plain": [
       "Pooling Model\n",
       "\n",
       "Call:\n",
       "plm(formula = log_ihh ~ value_in + in_lag + value_outin + outin_lag + \n",
       "    value_inout + inout_lag + log(real_prices) + real_gdp_change + \n",
       "    type_1 + type_2 + type_3, data = df_ihh_part, model = \"pooling\")\n",
       "\n",
       "Unbalanced Panel: n = 17, T = 2-4, N = 66\n",
       "\n",
       "Residuals:\n",
       "    Min.  1st Qu.   Median  3rd Qu.     Max. \n",
       "-1.93645 -0.62908 -0.14441  0.45786  3.83394 \n",
       "\n",
       "Coefficients:\n",
       "                    Estimate  Std. Error t-value  Pr(>|t|)    \n",
       "(Intercept)       5.5468e+00  1.3619e+00  4.0729 0.0001529 ***\n",
       "value_in          6.5649e-05  2.6233e-05  2.5025 0.0153920 *  \n",
       "in_lag            9.0331e-06  2.0177e-05  0.4477 0.6561631    \n",
       "value_outin       3.9538e-05  1.8364e-05  2.1530 0.0358054 *  \n",
       "outin_lag         4.0216e-05  1.9571e-05  2.0549 0.0447362 *  \n",
       "value_inout       1.1091e-06  7.1650e-06  0.1548 0.8775651    \n",
       "inout_lag        -5.0664e-06  1.1327e-05 -0.4473 0.6564599    \n",
       "log(real_prices) -1.2045e-01  1.3034e-01 -0.9241 0.3595351    \n",
       "real_gdp_change   1.1447e-04  1.4160e-04  0.8084 0.4224024    \n",
       "type_1            1.6783e-01  4.4972e-01  0.3732 0.7104749    \n",
       "type_2            8.3400e-01  4.3393e-01  1.9220 0.0598934 .  \n",
       "type_3            1.7763e-01  8.8245e-01  0.2013 0.8412273    \n",
       "---\n",
       "Signif. codes:  0 ‘***’ 0.001 ‘**’ 0.01 ‘*’ 0.05 ‘.’ 0.1 ‘ ’ 1\n",
       "\n",
       "Total Sum of Squares:    133.12\n",
       "Residual Sum of Squares: 90.185\n",
       "R-Squared:      0.32252\n",
       "Adj. R-Squared: 0.18452\n",
       "F-statistic: 2.33705 on 11 and 54 DF, p-value: 0.019544"
      ]
     },
     "metadata": {},
     "output_type": "display_data"
    }
   ],
   "source": [
    "pool <- plm(log_ihh~value_in+in_lag+value_outin+outin_lag+value_inout+inout_lag+log(real_prices)+real_gdp_change+type_1+type_2+type_3, data = df_ihh_part, model=\"pooling\")\n",
    "summary(pool)"
   ]
  },
  {
   "cell_type": "code",
   "execution_count": 146,
   "metadata": {},
   "outputs": [
    {
     "data": {
      "text/plain": [
       "\n",
       "\tLagrange Multiplier Test - (Breusch-Pagan) for unbalanced panels\n",
       "\n",
       "data:  log_ihh ~ value_in + in_lag + value_outin + outin_lag + value_inout +  ...\n",
       "chisq = 67.339, df = 1, p-value = 2.286e-16\n",
       "alternative hypothesis: significant effects\n"
      ]
     },
     "metadata": {},
     "output_type": "display_data"
    }
   ],
   "source": [
    "plmtest(pool, type=c(\"bp\"))"
   ]
  },
  {
   "cell_type": "markdown",
   "metadata": {},
   "source": [
    "p-value < 2.2e-16  используем re модель"
   ]
  },
  {
   "cell_type": "code",
   "execution_count": 147,
   "metadata": {},
   "outputs": [],
   "source": [
    "# pcdtest(fixed, test = c(\"lm\"))"
   ]
  },
  {
   "cell_type": "code",
   "execution_count": 148,
   "metadata": {},
   "outputs": [
    {
     "data": {
      "text/plain": [
       "\n",
       "\tPesaran CD test for cross-sectional dependence in panels\n",
       "\n",
       "data:  log_ihh ~ value_in + in_lag + value_outin + outin_lag + value_inout +     inout_lag + log(real_prices) + real_gdp_change + type_1 +     type_2 + type_3 + type_4\n",
       "z = -1.0139, p-value = 0.3106\n",
       "alternative hypothesis: cross-sectional dependence\n"
      ]
     },
     "metadata": {},
     "output_type": "display_data"
    }
   ],
   "source": [
    "pcdtest(fixed, test = c(\"cd\"))"
   ]
  },
  {
   "cell_type": "markdown",
   "metadata": {},
   "source": [
    "p-value > 0.05 нет кросс-секциональной зависимости"
   ]
  },
  {
   "cell_type": "code",
   "execution_count": 149,
   "metadata": {},
   "outputs": [
    {
     "data": {
      "text/plain": [
       "\n",
       "\tBreusch-Godfrey/Wooldridge test for serial correlation in panel models\n",
       "\n",
       "data:  log_ihh ~ value_in + in_lag + value_outin + outin_lag + value_inout +     inout_lag + log(real_prices) + real_gdp_change + type_1 +     type_2 + type_3 + type_4\n",
       "chisq = 14.941, df = 2, p-value = 0.0005697\n",
       "alternative hypothesis: serial correlation in idiosyncratic errors\n"
      ]
     },
     "metadata": {},
     "output_type": "display_data"
    }
   ],
   "source": [
    "pbgtest(fixed)"
   ]
  },
  {
   "cell_type": "markdown",
   "metadata": {},
   "source": [
    "Есть серийная корреляция"
   ]
  },
  {
   "cell_type": "code",
   "execution_count": 150,
   "metadata": {},
   "outputs": [],
   "source": [
    "library(lmtest) "
   ]
  },
  {
   "cell_type": "code",
   "execution_count": 151,
   "metadata": {},
   "outputs": [
    {
     "data": {
      "text/plain": [
       "\n",
       "\tBreusch-Pagan test\n",
       "\n",
       "data:  log_ihh ~ value_in + in_lag + value_outin + outin_lag + value_inout +     inout_lag + log(real_prices) + real_gdp_change + type_1 +     type_2 + type_3\n",
       "BP = 37.664, df = 11, p-value = 8.912e-05\n"
      ]
     },
     "metadata": {},
     "output_type": "display_data"
    }
   ],
   "source": [
    "bptest(log_ihh~value_in+in_lag+value_outin+outin_lag+value_inout+inout_lag+log(real_prices)+real_gdp_change+type_1+type_2+type_3, data = df_ihh_part, studentize=F)"
   ]
  },
  {
   "cell_type": "markdown",
   "metadata": {},
   "source": [
    "Есть гетероскдастичность, необходимо использовать устойчивые к гетероскедастичности оценки ковариационной матрицы "
   ]
  },
  {
   "cell_type": "code",
   "execution_count": 152,
   "metadata": {},
   "outputs": [
    {
     "data": {
      "text/plain": [
       "\n",
       "t test of coefficients:\n",
       "\n",
       "                    Estimate  Std. Error t value Pr(>|t|)  \n",
       "value_in          8.3446e-06  3.4938e-06  2.3884  0.02199 *\n",
       "in_lag            3.9575e-06  2.4751e-06  1.5989  0.11813  \n",
       "value_outin       2.2463e-06  3.7660e-06  0.5965  0.55440  \n",
       "outin_lag         2.4579e-06  3.5209e-06  0.6981  0.48937  \n",
       "value_inout       2.9922e-07  1.1509e-06  0.2600  0.79629  \n",
       "inout_lag        -1.0766e-06  1.6469e-06 -0.6537  0.51725  \n",
       "log(real_prices) -1.7605e-02  2.7647e-02 -0.6368  0.52808  \n",
       "real_gdp_change   1.6286e-05  1.6222e-05  1.0040  0.32175  \n",
       "type_1            1.4040e-01  1.4440e-01  0.9723  0.33704  \n",
       "type_2           -5.6447e-01  2.6494e-01 -2.1305  0.03966 *\n",
       "type_3           -5.2073e-01  1.9715e-01 -2.6413  0.01192 *\n",
       "---\n",
       "Signif. codes:  0 ‘***’ 0.001 ‘**’ 0.01 ‘*’ 0.05 ‘.’ 0.1 ‘ ’ 1\n"
      ]
     },
     "metadata": {},
     "output_type": "display_data"
    }
   ],
   "source": [
    "coeftest(fixed) "
   ]
  },
  {
   "cell_type": "code",
   "execution_count": 155,
   "metadata": {},
   "outputs": [
    {
     "data": {
      "text/plain": [
       "\n",
       "t test of coefficients:\n",
       "\n",
       "                    Estimate  Std. Error t value  Pr(>|t|)    \n",
       "value_in          8.3446e-06  4.3878e-06  1.9018 0.0648016 .  \n",
       "in_lag            3.9575e-06  1.3191e-06  3.0001 0.0047453 ** \n",
       "value_outin       2.2463e-06  2.2271e-06  1.0086 0.3195437    \n",
       "outin_lag         2.4579e-06  2.1911e-06  1.1218 0.2690031    \n",
       "value_inout       2.9922e-07  8.5453e-07  0.3502 0.7281572    \n",
       "inout_lag        -1.0766e-06  1.0933e-06 -0.9847 0.3310180    \n",
       "log(real_prices) -1.7605e-02  1.3303e-02 -1.3234 0.1935963    \n",
       "real_gdp_change   1.6286e-05  1.4398e-05  1.1311 0.2650831    \n",
       "type_1            1.4040e-01  2.1290e-02  6.5945 8.743e-08 ***\n",
       "type_2           -5.6447e-01  1.2622e-01 -4.4723 6.796e-05 ***\n",
       "type_3           -5.2073e-01  1.2233e-01 -4.2567 0.0001309 ***\n",
       "---\n",
       "Signif. codes:  0 ‘***’ 0.001 ‘**’ 0.01 ‘*’ 0.05 ‘.’ 0.1 ‘ ’ 1\n"
      ]
     },
     "metadata": {},
     "output_type": "display_data"
    }
   ],
   "source": [
    "coeftest(fixed, vcovHC) "
   ]
  },
  {
   "cell_type": "code",
   "execution_count": 157,
   "metadata": {},
   "outputs": [
    {
     "data": {
      "text/plain": [
       "\n",
       "t test of coefficients:\n",
       "\n",
       "                    Estimate  Std. Error t value  Pr(>|t|)    \n",
       "value_in          8.3446e-06  4.8066e-06  1.7361 0.0906532 .  \n",
       "in_lag            3.9575e-06  1.4450e-06  2.7387 0.0093379 ** \n",
       "value_outin       2.2463e-06  2.4397e-06  0.9207 0.3630020    \n",
       "outin_lag         2.4579e-06  2.4002e-06  1.0240 0.3122999    \n",
       "value_inout       2.9922e-07  9.3609e-07  0.3196 0.7509885    \n",
       "inout_lag        -1.0766e-06  1.1977e-06 -0.8989 0.3743826    \n",
       "log(real_prices) -1.7605e-02  1.4572e-02 -1.2081 0.2344619    \n",
       "real_gdp_change   1.6286e-05  1.5772e-05  1.0326 0.3083240    \n",
       "type_1            1.4040e-01  2.3322e-02  6.0199 5.345e-07 ***\n",
       "type_2           -5.6447e-01  1.3826e-01 -4.0826 0.0002208 ***\n",
       "type_3           -5.2073e-01  1.3401e-01 -3.8858 0.0003957 ***\n",
       "---\n",
       "Signif. codes:  0 ‘***’ 0.001 ‘**’ 0.01 ‘*’ 0.05 ‘.’ 0.1 ‘ ’ 1\n"
      ]
     },
     "metadata": {},
     "output_type": "display_data"
    }
   ],
   "source": [
    "coeftest(fixed, vcovHC(fixed, type = \"HC1\")) "
   ]
  },
  {
   "cell_type": "markdown",
   "metadata": {},
   "source": [
    "HC3 – Recommended for small samples. HC3 gives less weight to influential observations."
   ]
  }
 ],
 "metadata": {
  "kernelspec": {
   "display_name": "R 3.5.1",
   "language": "R",
   "name": "ir"
  },
  "language_info": {
   "codemirror_mode": "r",
   "file_extension": ".r",
   "mimetype": "text/x-r-source",
   "name": "R",
   "pygments_lexer": "r",
   "version": "3.5.2"
  }
 },
 "nbformat": 4,
 "nbformat_minor": 2
}
