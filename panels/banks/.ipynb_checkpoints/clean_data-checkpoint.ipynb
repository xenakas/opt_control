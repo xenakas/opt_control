{
 "cells": [
  {
   "cell_type": "code",
   "execution_count": 2,
   "metadata": {
    "ExecuteTime": {
     "end_time": "2020-04-20T21:27:39.305849Z",
     "start_time": "2020-04-20T21:27:39.298238Z"
    }
   },
   "outputs": [],
   "source": [
    "import numpy as np\n",
    "import pandas as pd"
   ]
  },
  {
   "cell_type": "code",
   "execution_count": 8,
   "metadata": {
    "ExecuteTime": {
     "end_time": "2020-04-20T21:28:47.834230Z",
     "start_time": "2020-04-20T21:28:47.794760Z"
    }
   },
   "outputs": [],
   "source": [
    "df = pd.read_csv('all_data.csv')\n",
    "df = df.iloc[:,:-1]\n",
    "df.iloc[1,3:] = pd.date_range(start=\"2018-09\",end=\"2019-10\", freq='M').strftime(\"01-%m-%Y\")\n",
    "df = df.iloc[2:,:]\n",
    "df = df.dropna(axis=0, how='all')"
   ]
  },
  {
   "cell_type": "code",
   "execution_count": 55,
   "metadata": {
    "ExecuteTime": {
     "end_time": "2020-04-20T21:40:22.643499Z",
     "start_time": "2020-04-20T21:40:22.625457Z"
    }
   },
   "outputs": [
    {
     "data": {
      "text/plain": [
       "(1856, 16)"
      ]
     },
     "execution_count": 55,
     "metadata": {},
     "output_type": "execute_result"
    }
   ],
   "source": [
    "df.to_csv('all_data_raw.csv')"
   ]
  },
  {
   "cell_type": "code",
   "execution_count": null,
   "metadata": {
    "ExecuteTime": {
     "end_time": "2020-04-20T21:43:26.189131Z",
     "start_time": "2020-04-20T21:43:26.169627Z"
    }
   },
   "outputs": [],
   "source": [
    "df.iloc[:,:3] = df.iloc[:,:3].fillna(method='ffill')"
   ]
  },
  {
   "cell_type": "code",
   "execution_count": null,
   "metadata": {
    "ExecuteTime": {
     "end_time": "2020-04-20T21:54:51.724990Z",
     "start_time": "2020-04-20T21:54:51.704584Z"
    }
   },
   "outputs": [],
   "source": [
    "import re\n",
    "r = re.compile(r'.*?([a-zA-Zа-яА-Я].*)')\n",
    "df.iloc[:,0] = [r.findall(i)[0] for i in df.iloc[:,0]] "
   ]
  },
  {
   "cell_type": "code",
   "execution_count": 80,
   "metadata": {
    "ExecuteTime": {
     "end_time": "2020-04-20T21:55:39.210451Z",
     "start_time": "2020-04-20T21:55:39.177173Z"
    }
   },
   "outputs": [],
   "source": [
    "df.to_csv('all_data_med.csv')"
   ]
  },
  {
   "cell_type": "code",
   "execution_count": 89,
   "metadata": {
    "ExecuteTime": {
     "end_time": "2020-04-20T22:01:23.233640Z",
     "start_time": "2020-04-20T22:01:23.217825Z"
    }
   },
   "outputs": [],
   "source": [
    "df = df.iloc[ [not 'Result' in i for i in df.iloc[:,0]], :]"
   ]
  },
  {
   "cell_type": "code",
   "execution_count": 93,
   "metadata": {
    "ExecuteTime": {
     "end_time": "2020-04-20T22:02:45.690346Z",
     "start_time": "2020-04-20T22:02:45.674352Z"
    }
   },
   "outputs": [],
   "source": [
    "df = df.iloc[ [not 'Result' in i for i in df.iloc[:,1]], :]"
   ]
  },
  {
   "cell_type": "code",
   "execution_count": 95,
   "metadata": {
    "ExecuteTime": {
     "end_time": "2020-04-20T22:05:18.709465Z",
     "start_time": "2020-04-20T22:05:18.689359Z"
    }
   },
   "outputs": [],
   "source": [
    "df = df.iloc[ [not '???' in i for i in df.iloc[:,1]], :]\n",
    "df = df.iloc[ [not '???' in i for i in df.iloc[:,2]], :]"
   ]
  },
  {
   "cell_type": "code",
   "execution_count": 97,
   "metadata": {
    "ExecuteTime": {
     "end_time": "2020-04-20T22:06:34.869283Z",
     "start_time": "2020-04-20T22:06:34.856336Z"
    }
   },
   "outputs": [],
   "source": [
    "df = df.iloc[ [not 'Totals' in i for i in df.iloc[:,1]], :]\n",
    "# df = df.iloc[ [not '???' in i for i in df.iloc[:,2]], :]"
   ]
  },
  {
   "cell_type": "code",
   "execution_count": 98,
   "metadata": {
    "ExecuteTime": {
     "end_time": "2020-04-20T22:06:35.262237Z",
     "start_time": "2020-04-20T22:06:35.240947Z"
    }
   },
   "outputs": [],
   "source": [
    "df.to_csv('all_data_well.csv')"
   ]
  },
  {
   "cell_type": "code",
   "execution_count": 99,
   "metadata": {
    "ExecuteTime": {
     "end_time": "2020-04-21T07:30:46.033498Z",
     "start_time": "2020-04-21T07:30:46.017473Z"
    }
   },
   "outputs": [],
   "source": [
    "df = pd.read_csv('all_data_done.csv')"
   ]
  },
  {
   "cell_type": "code",
   "execution_count": 118,
   "metadata": {
    "ExecuteTime": {
     "end_time": "2020-04-21T08:01:35.103215Z",
     "start_time": "2020-04-21T08:01:35.067548Z"
    }
   },
   "outputs": [],
   "source": [
    "df.iloc[:,3] = df.iloc[:,3].replace('0-13',14/2).replace('14-21',np.mean([14,22])).replace('22-29',np.mean([22,30])).replace('30-39',np.mean([30,40])).replace('40-54',np.mean([40,54])).replace('55-59',np.mean([55,59])).replace('60-69',np.mean([60,70])).replace('От 70',np.mean([70,84]))"
   ]
  },
  {
   "cell_type": "code",
   "execution_count": 136,
   "metadata": {
    "ExecuteTime": {
     "end_time": "2020-04-21T08:06:58.098598Z",
     "start_time": "2020-04-21T08:06:57.973541Z"
    },
    "scrolled": false
   },
   "outputs": [
    {
     "name": "stderr",
     "output_type": "stream",
     "text": [
      "/home/xenakas/anaconda3/envs/geoplots3.6/lib/python3.6/site-packages/ipykernel_launcher.py:1: FutureWarning: The signature of `Series.to_csv` was aligned to that of `DataFrame.to_csv`, and argument 'header' will change its default value from False to True: please pass an explicit value to suppress this warning.\n",
      "  \"\"\"Entry point for launching an IPython kernel.\n"
     ]
    }
   ],
   "source": [
    "df.set_index(['Показатель','Тип', 'Пол','Возраст']).transpose().unstack().to_csv('123.csv')"
   ]
  },
  {
   "cell_type": "code",
   "execution_count": 137,
   "metadata": {
    "ExecuteTime": {
     "end_time": "2020-04-21T08:14:20.931181Z",
     "start_time": "2020-04-21T08:14:20.883788Z"
    }
   },
   "outputs": [],
   "source": [
    "df = pd.read_csv('data_raw.csv')"
   ]
  },
  {
   "cell_type": "code",
   "execution_count": 190,
   "metadata": {
    "ExecuteTime": {
     "end_time": "2020-04-21T09:49:43.366116Z",
     "start_time": "2020-04-21T09:49:43.335912Z"
    }
   },
   "outputs": [],
   "source": [
    "df = pd.read_csv('data_raw.csv', index_col='date', parse_dates=True)\n"
   ]
  },
  {
   "cell_type": "code",
   "execution_count": 191,
   "metadata": {
    "ExecuteTime": {
     "end_time": "2020-04-21T09:49:43.863975Z",
     "start_time": "2020-04-21T09:49:43.853902Z"
    }
   },
   "outputs": [],
   "source": [
    "df['year'] = df.index.year"
   ]
  },
  {
   "cell_type": "code",
   "execution_count": 193,
   "metadata": {
    "ExecuteTime": {
     "end_time": "2020-04-21T09:49:54.932386Z",
     "start_time": "2020-04-21T09:49:54.859636Z"
    }
   },
   "outputs": [],
   "source": [
    "df.to_csv('dataframe.csv')"
   ]
  },
  {
   "cell_type": "code",
   "execution_count": 194,
   "metadata": {
    "ExecuteTime": {
     "end_time": "2020-04-21T20:09:54.179790Z",
     "start_time": "2020-04-21T20:09:54.137866Z"
    }
   },
   "outputs": [],
   "source": [
    "df = pd.read_csv('dataframe.csv')"
   ]
  },
  {
   "cell_type": "code",
   "execution_count": 195,
   "metadata": {
    "ExecuteTime": {
     "end_time": "2020-04-21T20:09:55.658822Z",
     "start_time": "2020-04-21T20:09:55.644341Z"
    }
   },
   "outputs": [],
   "source": [
    "df[['age_sq']] = df[['age']]**2"
   ]
  },
  {
   "cell_type": "code",
   "execution_count": 196,
   "metadata": {
    "ExecuteTime": {
     "end_time": "2020-04-21T20:09:55.896413Z",
     "start_time": "2020-04-21T20:09:55.876952Z"
    }
   },
   "outputs": [],
   "source": [
    "df['inc'] = np.repeat(0,df.shape[0])\n",
    "df[['inc']] = [int(i) for i in df['age'].between(22, 54, inclusive=False)]"
   ]
  },
  {
   "cell_type": "code",
   "execution_count": 197,
   "metadata": {
    "ExecuteTime": {
     "end_time": "2020-04-21T20:09:56.840429Z",
     "start_time": "2020-04-21T20:09:56.674280Z"
    }
   },
   "outputs": [],
   "source": [
    "df.to_csv('dataframe.csv')"
   ]
  },
  {
   "cell_type": "code",
   "execution_count": null,
   "metadata": {},
   "outputs": [],
   "source": []
  }
 ],
 "metadata": {
  "hide_input": false,
  "kernelspec": {
   "display_name": "Python 3.6 (for geoplots)",
   "language": "python",
   "name": "geoplots3.6"
  },
  "language_info": {
   "codemirror_mode": {
    "name": "ipython",
    "version": 3
   },
   "file_extension": ".py",
   "mimetype": "text/x-python",
   "name": "python",
   "nbconvert_exporter": "python",
   "pygments_lexer": "ipython3",
   "version": "3.6.7"
  },
  "latex_envs": {
   "LaTeX_envs_menu_present": true,
   "autoclose": true,
   "autocomplete": true,
   "bibliofile": "biblio.bib",
   "cite_by": "apalike",
   "current_citInitial": 1,
   "eqLabelWithNumbers": true,
   "eqNumInitial": 1,
   "hotkeys": {
    "equation": "Ctrl-E",
    "itemize": "Ctrl-I"
   },
   "labels_anchors": false,
   "latex_user_defs": false,
   "report_style_numbering": false,
   "user_envs_cfg": false
  },
  "toc": {
   "base_numbering": 1,
   "nav_menu": {},
   "number_sections": true,
   "sideBar": true,
   "skip_h1_title": false,
   "title_cell": "Table of Contents",
   "title_sidebar": "Contents",
   "toc_cell": false,
   "toc_position": {},
   "toc_section_display": true,
   "toc_window_display": false
  },
  "varInspector": {
   "cols": {
    "lenName": 16,
    "lenType": 16,
    "lenVar": 40
   },
   "kernels_config": {
    "python": {
     "delete_cmd_postfix": "",
     "delete_cmd_prefix": "del ",
     "library": "var_list.py",
     "varRefreshCmd": "print(var_dic_list())"
    },
    "r": {
     "delete_cmd_postfix": ") ",
     "delete_cmd_prefix": "rm(",
     "library": "var_list.r",
     "varRefreshCmd": "cat(var_dic_list()) "
    }
   },
   "types_to_exclude": [
    "module",
    "function",
    "builtin_function_or_method",
    "instance",
    "_Feature"
   ],
   "window_display": false
  }
 },
 "nbformat": 4,
 "nbformat_minor": 2
}
