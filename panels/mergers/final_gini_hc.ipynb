{
 "cells": [
  {
   "cell_type": "code",
   "execution_count": 43,
   "metadata": {},
   "outputs": [],
   "source": [
    "library('plm')"
   ]
  },
  {
   "cell_type": "code",
   "execution_count": 44,
   "metadata": {},
   "outputs": [],
   "source": [
    "df_ihh  <-  read.csv(file=\"raw_full.csv\", header=TRUE, sep=\",\")"
   ]
  },
  {
   "cell_type": "code",
   "execution_count": 45,
   "metadata": {},
   "outputs": [],
   "source": [
    "df_ihh[is.na(df_ihh)] <- 0"
   ]
  },
  {
   "cell_type": "code",
   "execution_count": 46,
   "metadata": {},
   "outputs": [],
   "source": [
    "df_ihh = pdata.frame(df_ihh, index = c('otrasl','year'))"
   ]
  },
  {
   "cell_type": "code",
   "execution_count": 47,
   "metadata": {},
   "outputs": [],
   "source": [
    "df_ihh$real_prices[df_ihh$real_prices == 0] <- NA"
   ]
  },
  {
   "cell_type": "code",
   "execution_count": 48,
   "metadata": {},
   "outputs": [],
   "source": [
    "# df_ihh$in_log[df_ihh$in_log == 0] <- NA\n",
    "# df_ihh$inout_log[df_ihh$inout_log == 0] <- NA\n",
    "# df_ihh$outin_log[df_ihh$outin_log == 0] <- NA"
   ]
  },
  {
   "cell_type": "code",
   "execution_count": 49,
   "metadata": {},
   "outputs": [],
   "source": [
    "df_ihh['log_ihh'] = log(df_ihh$IHH)\n",
    "df_ihh['ma_lag'] = lag(df_ihh$MA, 1)\n",
    "df_ihh['ma_log'] = log(df_ihh$MA)\n",
    "df_ihh['ma_log_lag'] = lag(df_ihh$ma_log, 1)"
   ]
  },
  {
   "cell_type": "code",
   "execution_count": 50,
   "metadata": {},
   "outputs": [],
   "source": [
    "df_ihh['in_lag'] = lag(df_ihh$value_in, 1)\n",
    "df_ihh['inout_lag'] = lag(df_ihh$value_inout, 1)\n",
    "df_ihh['outin_lag'] = lag(df_ihh$value_outin, 1)\n",
    "\n",
    "df_ihh['in_log'] = log(df_ihh$value_in)\n",
    "df_ihh['inout_log'] = log(df_ihh$value_inout)\n",
    "df_ihh['outin_log'] = log(df_ihh$value_outin)\n",
    "\n",
    "df_ihh$in_log[df_ihh$in_log == -Inf]  <- NA\n",
    "df_ihh$inout_log[df_ihh$inout_log == -Inf]  <- NA\n",
    "df_ihh$outin_log[df_ihh$outin_log == -Inf]  <-  NA\n",
    "\n",
    "df_ihh['in_log_lag'] = lag(df_ihh$in_log, 1)\n",
    "df_ihh['inout_log_lag'] = lag(df_ihh$inout_log, 1 )\n",
    "df_ihh['outin_log_lag'] = lag(df_ihh$outin_log, 1 )\n"
   ]
  },
  {
   "cell_type": "code",
   "execution_count": null,
   "metadata": {},
   "outputs": [],
   "source": []
  },
  {
   "cell_type": "code",
   "execution_count": 53,
   "metadata": {},
   "outputs": [],
   "source": [
    "# df_lag = lag(df_ihh$MA, 1)"
   ]
  },
  {
   "cell_type": "code",
   "execution_count": 54,
   "metadata": {},
   "outputs": [],
   "source": [
    "# df_ihh_part = df_ihh[df_ihh$otrasl != 'IT', ] \n",
    "df_ihh_part = df_ihh"
   ]
  },
  {
   "cell_type": "code",
   "execution_count": 55,
   "metadata": {},
   "outputs": [],
   "source": [
    "library(gplots)"
   ]
  },
  {
   "cell_type": "code",
   "execution_count": 82,
   "metadata": {},
   "outputs": [
    {
     "data": {
      "text/plain": [
       "\n",
       "Call:\n",
       "lm(formula = gini ~ in_log + in_log_lag + outin_log + outin_log_lag + \n",
       "    inout_log + inout_log_lag + log(real_prices) + real_gdp_change, \n",
       "    data = df_ihh_part)\n",
       "\n",
       "Residuals:\n",
       "     Min       1Q   Median       3Q      Max \n",
       "-0.16991 -0.05258 -0.01772  0.01269  0.25754 \n",
       "\n",
       "Coefficients:\n",
       "                   Estimate Std. Error t value Pr(>|t|)  \n",
       "(Intercept)       1.759e-01  2.057e-01   0.855   0.4000  \n",
       "in_log            4.915e-02  2.316e-02   2.122   0.0431 *\n",
       "in_log_lag       -3.359e-03  2.236e-02  -0.150   0.8817  \n",
       "outin_log         1.835e-02  1.777e-02   1.032   0.3110  \n",
       "outin_log_lag     1.119e-02  1.494e-02   0.749   0.4602  \n",
       "inout_log         1.135e-02  1.320e-02   0.860   0.3974  \n",
       "inout_log_lag     6.340e-03  1.555e-02   0.408   0.6867  \n",
       "log(real_prices) -2.486e-02  1.656e-02  -1.501   0.1448  \n",
       "real_gdp_change   8.164e-06  1.713e-05   0.477   0.6374  \n",
       "---\n",
       "Signif. codes:  0 ‘***’ 0.001 ‘**’ 0.01 ‘*’ 0.05 ‘.’ 0.1 ‘ ’ 1\n",
       "\n",
       "Residual standard error: 0.1076 on 27 degrees of freedom\n",
       "  (53 observations deleted due to missingness)\n",
       "Multiple R-squared:  0.3354,\tAdjusted R-squared:  0.1384 \n",
       "F-statistic: 1.703 on 8 and 27 DF,  p-value: 0.1434\n"
      ]
     },
     "metadata": {},
     "output_type": "display_data"
    }
   ],
   "source": [
    "ols <-lm(gini~in_log+in_log_lag+outin_log+outin_log_lag+inout_log+inout_log_lag+log(real_prices)+real_gdp_change, data = df_ihh_part)\n",
    "summary(ols)"
   ]
  },
  {
   "cell_type": "code",
   "execution_count": 83,
   "metadata": {},
   "outputs": [],
   "source": [
    "library(ggplot2)"
   ]
  },
  {
   "cell_type": "code",
   "execution_count": 84,
   "metadata": {},
   "outputs": [
    {
     "data": {
      "text/html": [
       "<ol class=list-inline>\n",
       "\t<li>89</li>\n",
       "\t<li>30</li>\n",
       "</ol>\n"
      ],
      "text/latex": [
       "\\begin{enumerate*}\n",
       "\\item 89\n",
       "\\item 30\n",
       "\\end{enumerate*}\n"
      ],
      "text/markdown": [
       "1. 89\n",
       "2. 30\n",
       "\n",
       "\n"
      ],
      "text/plain": [
       "[1] 89 30"
      ]
     },
     "metadata": {},
     "output_type": "display_data"
    }
   ],
   "source": [
    "dim(df_ihh)"
   ]
  },
  {
   "cell_type": "code",
   "execution_count": 85,
   "metadata": {},
   "outputs": [
    {
     "data": {
      "text/plain": [
       "\n",
       "Call:\n",
       "lm(formula = gini ~ in_log + in_log_lag + outin_log + outin_log_lag + \n",
       "    inout_log + inout_log_lag + log(real_prices) + real_gdp_change + \n",
       "    factor(otrasl) - 1, data = df_ihh_part)\n",
       "\n",
       "Residuals:\n",
       "       Min         1Q     Median         3Q        Max \n",
       "-0.0180093 -0.0069089  0.0006759  0.0086594  0.0207657 \n",
       "\n",
       "Coefficients:\n",
       "                                     Estimate Std. Error t value Pr(>|t|)    \n",
       "in_log                              2.964e-03  4.263e-03   0.695   0.4963    \n",
       "in_log_lag                         -4.273e-03  4.593e-03  -0.930   0.3652    \n",
       "outin_log                           4.176e-03  2.658e-03   1.571   0.1346    \n",
       "outin_log_lag                       5.315e-03  2.467e-03   2.154   0.0459 *  \n",
       "inout_log                          -1.557e-03  2.756e-03  -0.565   0.5794    \n",
       "inout_log_lag                      -1.080e-03  2.734e-03  -0.395   0.6976    \n",
       "log(real_prices)                    1.505e-04  5.484e-03   0.027   0.9784    \n",
       "real_gdp_change                     1.642e-06  2.434e-06   0.675   0.5089    \n",
       "factor(otrasl)IT                    5.376e-01  7.783e-02   6.907 2.54e-06 ***\n",
       "factor(otrasl)ДОБЫЧА                6.992e-01  7.952e-02   8.793 9.85e-08 ***\n",
       "factor(otrasl)МАШИНОСТРОЕНИЕ        5.727e-01  7.097e-02   8.069 3.25e-07 ***\n",
       "factor(otrasl)МЕТАЛЛУРГИЯ           6.484e-01  8.267e-02   7.843 4.78e-07 ***\n",
       "factor(otrasl)НЕФТЕХИМ              6.564e-01  8.893e-02   7.382 1.07e-06 ***\n",
       "factor(otrasl)ПИЩЕВАЯ               4.967e-01  6.931e-02   7.166 1.58e-06 ***\n",
       "factor(otrasl)СТРОИТЕЛЬСТВО         5.077e-01  8.367e-02   6.068 1.25e-05 ***\n",
       "factor(otrasl)ТОРГОВЛЯ              5.766e-01  7.767e-02   7.424 9.94e-07 ***\n",
       "factor(otrasl)ТЭК                   6.358e-01  1.014e-01   6.273 8.42e-06 ***\n",
       "factor(otrasl)УСЛУГИ                4.456e-01  7.601e-02   5.863 1.88e-05 ***\n",
       "factor(otrasl)ФИНАНСОВЫЕ ИНСТИТУТЫ  8.313e-01  8.252e-02  10.073 1.39e-08 ***\n",
       "---\n",
       "Signif. codes:  0 ‘***’ 0.001 ‘**’ 0.01 ‘*’ 0.05 ‘.’ 0.1 ‘ ’ 1\n",
       "\n",
       "Residual standard error: 0.01398 on 17 degrees of freedom\n",
       "  (53 observations deleted due to missingness)\n",
       "Multiple R-squared:  0.9998,\tAdjusted R-squared:  0.9995 \n",
       "F-statistic:  4068 on 19 and 17 DF,  p-value: < 2.2e-16\n"
      ]
     },
     "metadata": {},
     "output_type": "display_data"
    }
   ],
   "source": [
    "fixed.dum <-lm(gini~in_log+in_log_lag+outin_log+outin_log_lag+inout_log+inout_log_lag+log(real_prices)+real_gdp_change+ factor(otrasl) - 1, data = df_ihh_part)\n",
    "summary(fixed.dum)"
   ]
  },
  {
   "cell_type": "code",
   "execution_count": 86,
   "metadata": {},
   "outputs": [],
   "source": [
    "library(car)  "
   ]
  },
  {
   "cell_type": "code",
   "execution_count": 87,
   "metadata": {},
   "outputs": [],
   "source": [
    "# yhat <- fixed.dum$fitted\n",
    "# scatterplot(yhat ~ df_ihh_omit$log_ma | df_ihh_omit$otrasl,  xlab =\"x1\", ylab =\"yhat\", boxplots = FALSE,smooth = FALSE)\n",
    "# abline(lm(df_ihh_omit$log_ihh~df_ihh_omit$log_ma), lwd=3, col=\"red\")"
   ]
  },
  {
   "cell_type": "code",
   "execution_count": 88,
   "metadata": {},
   "outputs": [
    {
     "data": {
      "text/plain": [
       "Oneway (individual) effect Within Model\n",
       "\n",
       "Call:\n",
       "plm(formula = gini ~ in_log + in_log_lag + outin_log + outin_log_lag + \n",
       "    inout_log + inout_log_lag + log(real_prices) + real_gdp_change, \n",
       "    data = df_ihh_part, model = \"within\")\n",
       "\n",
       "Unbalanced Panel: n = 11, T = 1-4, N = 36\n",
       "\n",
       "Residuals:\n",
       "       Min.     1st Qu.      Median     3rd Qu.        Max. \n",
       "-0.01800926 -0.00690890  0.00067592  0.00865938  0.02076571 \n",
       "\n",
       "Coefficients:\n",
       "                    Estimate  Std. Error t-value Pr(>|t|)  \n",
       "in_log            2.9638e-03  4.2634e-03  0.6952  0.49634  \n",
       "in_log_lag       -4.2732e-03  4.5934e-03 -0.9303  0.36524  \n",
       "outin_log         4.1758e-03  2.6583e-03  1.5709  0.13463  \n",
       "outin_log_lag     5.3150e-03  2.4673e-03  2.1542  0.04586 *\n",
       "inout_log        -1.5575e-03  2.7563e-03 -0.5651  0.57941  \n",
       "inout_log_lag    -1.0805e-03  2.7338e-03 -0.3952  0.69760  \n",
       "log(real_prices)  1.5054e-04  5.4838e-03  0.0275  0.97842  \n",
       "real_gdp_change   1.6424e-06  2.4341e-06  0.6747  0.50893  \n",
       "---\n",
       "Signif. codes:  0 ‘***’ 0.001 ‘**’ 0.01 ‘*’ 0.05 ‘.’ 0.1 ‘ ’ 1\n",
       "\n",
       "Total Sum of Squares:    0.0049849\n",
       "Residual Sum of Squares: 0.0033232\n",
       "R-Squared:      0.33335\n",
       "Adj. R-Squared: -0.37251\n",
       "F-statistic: 1.0626 on 8 and 17 DF, p-value: 0.43172"
      ]
     },
     "metadata": {},
     "output_type": "display_data"
    }
   ],
   "source": [
    "fixed <- plm(gini~in_log+in_log_lag+outin_log+outin_log_lag+inout_log+inout_log_lag+log(real_prices)+real_gdp_change, data = df_ihh_part, model=\"within\")\n",
    "summary(fixed)"
   ]
  },
  {
   "cell_type": "code",
   "execution_count": 89,
   "metadata": {},
   "outputs": [
    {
     "data": {
      "text/html": [
       "<dl class=dl-horizontal>\n",
       "\t<dt>IT</dt>\n",
       "\t\t<dd>0.537550758879421</dd>\n",
       "\t<dt>ДОБЫЧА</dt>\n",
       "\t\t<dd>0.69922651164098</dd>\n",
       "\t<dt>МАШИНОСТРОЕНИЕ</dt>\n",
       "\t\t<dd>0.572666746714025</dd>\n",
       "\t<dt>МЕТАЛЛУРГИЯ</dt>\n",
       "\t\t<dd>0.648383122298656</dd>\n",
       "\t<dt>НЕФТЕХИМ</dt>\n",
       "\t\t<dd>0.656429679859014</dd>\n",
       "\t<dt>ПИЩЕВАЯ</dt>\n",
       "\t\t<dd>0.496713258014453</dd>\n",
       "\t<dt>СТРОИТЕЛЬСТВО</dt>\n",
       "\t\t<dd>0.507708104346113</dd>\n",
       "\t<dt>ТОРГОВЛЯ</dt>\n",
       "\t\t<dd>0.576643898660646</dd>\n",
       "\t<dt>ТЭК</dt>\n",
       "\t\t<dd>0.635822159313306</dd>\n",
       "\t<dt>УСЛУГИ</dt>\n",
       "\t\t<dd>0.445625777495337</dd>\n",
       "\t<dt>ФИНАНСОВЫЕ ИНСТИТУТЫ</dt>\n",
       "\t\t<dd>0.831267940666918</dd>\n",
       "</dl>\n"
      ],
      "text/latex": [
       "\\begin{description*}\n",
       "\\item[IT] 0.537550758879421\n",
       "\\item[ДОБЫЧА] 0.69922651164098\n",
       "\\item[МАШИНОСТРОЕНИЕ] 0.572666746714025\n",
       "\\item[МЕТАЛЛУРГИЯ] 0.648383122298656\n",
       "\\item[НЕФТЕХИМ] 0.656429679859014\n",
       "\\item[ПИЩЕВАЯ] 0.496713258014453\n",
       "\\item[СТРОИТЕЛЬСТВО] 0.507708104346113\n",
       "\\item[ТОРГОВЛЯ] 0.576643898660646\n",
       "\\item[ТЭК] 0.635822159313306\n",
       "\\item[УСЛУГИ] 0.445625777495337\n",
       "\\item[ФИНАНСОВЫЕ ИНСТИТУТЫ] 0.831267940666918\n",
       "\\end{description*}\n"
      ],
      "text/markdown": [
       "IT\n",
       ":   0.537550758879421ДОБЫЧА\n",
       ":   0.69922651164098МАШИНОСТРОЕНИЕ\n",
       ":   0.572666746714025МЕТАЛЛУРГИЯ\n",
       ":   0.648383122298656НЕФТЕХИМ\n",
       ":   0.656429679859014ПИЩЕВАЯ\n",
       ":   0.496713258014453СТРОИТЕЛЬСТВО\n",
       ":   0.507708104346113ТОРГОВЛЯ\n",
       ":   0.576643898660646ТЭК\n",
       ":   0.635822159313306УСЛУГИ\n",
       ":   0.445625777495337ФИНАНСОВЫЕ ИНСТИТУТЫ\n",
       ":   0.831267940666918\n",
       "\n"
      ],
      "text/plain": [
       "                  IT               ДОБЫЧА       МАШИНОСТРОЕНИЕ \n",
       "           0.5375508            0.6992265            0.5726667 \n",
       "         МЕТАЛЛУРГИЯ             НЕФТЕХИМ              ПИЩЕВАЯ \n",
       "           0.6483831            0.6564297            0.4967133 \n",
       "       СТРОИТЕЛЬСТВО             ТОРГОВЛЯ                  ТЭК \n",
       "           0.5077081            0.5766439            0.6358222 \n",
       "              УСЛУГИ ФИНАНСОВЫЕ ИНСТИТУТЫ \n",
       "           0.4456258            0.8312679 "
      ]
     },
     "metadata": {},
     "output_type": "display_data"
    }
   ],
   "source": [
    "fixef(fixed)"
   ]
  },
  {
   "cell_type": "code",
   "execution_count": 90,
   "metadata": {},
   "outputs": [
    {
     "data": {
      "text/plain": [
       "\n",
       "\tF test for individual effects\n",
       "\n",
       "data:  gini ~ in_log + in_log_lag + outin_log + outin_log_lag + inout_log +  ...\n",
       "F = 158.18, df1 = 10, df2 = 17, p-value = 9.69e-15\n",
       "alternative hypothesis: significant effects\n"
      ]
     },
     "metadata": {},
     "output_type": "display_data"
    }
   ],
   "source": [
    "pFtest(fixed, ols)"
   ]
  },
  {
   "cell_type": "markdown",
   "metadata": {},
   "source": [
    "p-value < 0.05 выбираем fe model "
   ]
  },
  {
   "cell_type": "code",
   "execution_count": 91,
   "metadata": {},
   "outputs": [
    {
     "data": {
      "text/plain": [
       "Oneway (individual) effect Random Effect Model \n",
       "   (Swamy-Arora's transformation)\n",
       "\n",
       "Call:\n",
       "plm(formula = gini ~ in_log + in_log_lag + outin_log + outin_log_lag + \n",
       "    inout_log + inout_log_lag + log(real_prices) + real_gdp_change, \n",
       "    data = df_ihh_part, model = \"random\")\n",
       "\n",
       "Unbalanced Panel: n = 11, T = 1-4, N = 36\n",
       "\n",
       "Effects:\n",
       "                    var   std.dev share\n",
       "idiosyncratic 0.0001955 0.0139814 0.313\n",
       "individual    0.0004299 0.0207352 0.687\n",
       "theta:\n",
       "   Min. 1st Qu.  Median    Mean 3rd Qu.    Max. \n",
       " 0.4409  0.6805  0.6805  0.6579  0.6805  0.6805 \n",
       "\n",
       "Residuals:\n",
       "     Min.   1st Qu.    Median      Mean   3rd Qu.      Max. \n",
       "-0.068628 -0.022102 -0.006549 -0.000184  0.009179  0.087936 \n",
       "\n",
       "Coefficients:\n",
       "                    Estimate  Std. Error z-value Pr(>|z|)   \n",
       "(Intercept)       3.9268e-01  1.5089e-01  2.6024 0.009257 **\n",
       "in_log            1.6217e-02  1.0894e-02  1.4885 0.136607   \n",
       "in_log_lag        5.6215e-03  1.0327e-02  0.5443 0.586219   \n",
       "outin_log         8.0192e-03  7.2948e-03  1.0993 0.271640   \n",
       "outin_log_lag     8.0306e-03  6.6881e-03  1.2007 0.229853   \n",
       "inout_log         5.8009e-03  6.4239e-03  0.9030 0.366516   \n",
       "inout_log_lag     4.0689e-03  6.6065e-03  0.6159 0.537963   \n",
       "log(real_prices) -1.1837e-02  1.2221e-02 -0.9686 0.332747   \n",
       "real_gdp_change   6.9185e-07  6.6305e-06  0.1043 0.916896   \n",
       "---\n",
       "Signif. codes:  0 ‘***’ 0.001 ‘**’ 0.01 ‘*’ 0.05 ‘.’ 0.1 ‘ ’ 1\n",
       "\n",
       "Total Sum of Squares:    0.11368\n",
       "Residual Sum of Squares: 0.043049\n",
       "R-Squared:      0.62159\n",
       "Adj. R-Squared: 0.50947\n",
       "Chisq: 44.2985 on 8 DF, p-value: 4.9965e-07"
      ]
     },
     "metadata": {},
     "output_type": "display_data"
    }
   ],
   "source": [
    "random <- plm(gini~in_log+in_log_lag+outin_log+outin_log_lag+inout_log+inout_log_lag+log(real_prices)+ real_gdp_change, data = df_ihh_part, model=\"random\")\n",
    "summary(random)"
   ]
  },
  {
   "cell_type": "code",
   "execution_count": 92,
   "metadata": {},
   "outputs": [
    {
     "data": {
      "text/plain": [
       "\n",
       "\tHausman Test\n",
       "\n",
       "data:  gini ~ in_log + in_log_lag + outin_log + outin_log_lag + inout_log +  ...\n",
       "chisq = 7.1842, df = 8, p-value = 0.5169\n",
       "alternative hypothesis: one model is inconsistent\n"
      ]
     },
     "metadata": {},
     "output_type": "display_data"
    }
   ],
   "source": [
    "phtest(fixed, random)"
   ]
  },
  {
   "cell_type": "markdown",
   "metadata": {},
   "source": [
    "p-value < 0.5 используем  FE модель"
   ]
  },
  {
   "cell_type": "code",
   "execution_count": 93,
   "metadata": {},
   "outputs": [
    {
     "data": {
      "text/plain": [
       "Oneway (individual) effect Within Model\n",
       "\n",
       "Call:\n",
       "plm(formula = gini ~ in_log + in_log_lag + outin_log + outin_log_lag + \n",
       "    inout_log + inout_log_lag + log(real_prices) + real_gdp_change + \n",
       "    factor(year), data = df_ihh_part, model = \"within\")\n",
       "\n",
       "Unbalanced Panel: n = 11, T = 1-4, N = 36\n",
       "\n",
       "Residuals:\n",
       "       Min.     1st Qu.      Median     3rd Qu.        Max. \n",
       "-0.01728808 -0.00688017 -0.00025171  0.00797922  0.01993391 \n",
       "\n",
       "Coefficients: (1 dropped because of singularities)\n",
       "                    Estimate  Std. Error t-value Pr(>|t|)\n",
       "in_log            8.1966e-04  5.5011e-03  0.1490   0.8835\n",
       "in_log_lag       -6.5144e-03  5.8539e-03 -1.1128   0.2833\n",
       "outin_log         3.5461e-03  2.9199e-03  1.2145   0.2433\n",
       "outin_log_lag     3.9949e-03  3.2441e-03  1.2314   0.2371\n",
       "inout_log        -1.4498e-03  2.8900e-03 -0.5017   0.6232\n",
       "inout_log_lag    -1.0508e-03  2.9690e-03 -0.3539   0.7283\n",
       "log(real_prices)  7.0636e-04  6.0690e-03  0.1164   0.9089\n",
       "real_gdp_change   9.6969e-06  1.4329e-05  0.6767   0.5089\n",
       "factor(year)2015  2.2604e-02  3.9254e-02  0.5758   0.5733\n",
       "factor(year)2016  7.2680e-03  1.0336e-02  0.7032   0.4927\n",
       "\n",
       "Total Sum of Squares:    0.0049849\n",
       "Residual Sum of Squares: 0.0032139\n",
       "R-Squared:      0.35527\n",
       "Adj. R-Squared: -0.50438\n",
       "F-statistic: 0.826547 on 10 and 15 DF, p-value: 0.61109"
      ]
     },
     "metadata": {},
     "output_type": "display_data"
    }
   ],
   "source": [
    "fixed.time <- plm(gini~in_log+in_log_lag+outin_log+outin_log_lag+inout_log+inout_log_lag+log(real_prices)+real_gdp_change+ factor(year), data=df_ihh_part, model=\"within\")\n",
    "summary(fixed.time)\n",
    "\n"
   ]
  },
  {
   "cell_type": "code",
   "execution_count": 94,
   "metadata": {},
   "outputs": [
    {
     "data": {
      "text/plain": [
       "\n",
       "\tF test for individual effects\n",
       "\n",
       "data:  gini ~ in_log + in_log_lag + outin_log + outin_log_lag + inout_log +  ...\n",
       "F = 0.25491, df1 = 2, df2 = 15, p-value = 0.7783\n",
       "alternative hypothesis: significant effects\n"
      ]
     },
     "metadata": {},
     "output_type": "display_data"
    }
   ],
   "source": [
    "pFtest(fixed.time, fixed)"
   ]
  },
  {
   "cell_type": "code",
   "execution_count": 95,
   "metadata": {},
   "outputs": [
    {
     "data": {
      "text/plain": [
       "\n",
       "\tLagrange Multiplier Test - time effects (Breusch-Pagan) for unbalanced\n",
       "\tpanels\n",
       "\n",
       "data:  gini ~ in_log + in_log_lag + outin_log + outin_log_lag + inout_log +  ...\n",
       "chisq = 1.833, df = 1, p-value = 0.1758\n",
       "alternative hypothesis: significant effects\n"
      ]
     },
     "metadata": {},
     "output_type": "display_data"
    }
   ],
   "source": [
    "plmtest(fixed, c(\"time\"), type=(\"bp\"))"
   ]
  },
  {
   "cell_type": "markdown",
   "metadata": {},
   "source": [
    "нет фиксированных временных эффектов"
   ]
  },
  {
   "cell_type": "code",
   "execution_count": 96,
   "metadata": {},
   "outputs": [
    {
     "data": {
      "text/plain": [
       "Pooling Model\n",
       "\n",
       "Call:\n",
       "plm(formula = gini ~ in_log + in_log_lag + outin_log + outin_log_lag + \n",
       "    inout_log + inout_log_lag + log(real_prices) + real_gdp_change, \n",
       "    data = df_ihh_part, model = \"pooling\")\n",
       "\n",
       "Unbalanced Panel: n = 11, T = 1-4, N = 36\n",
       "\n",
       "Residuals:\n",
       "     Min.   1st Qu.    Median   3rd Qu.      Max. \n",
       "-0.169912 -0.052579 -0.017717  0.012686  0.257544 \n",
       "\n",
       "Coefficients:\n",
       "                    Estimate  Std. Error t-value Pr(>|t|)  \n",
       "(Intercept)       1.7592e-01  2.0574e-01  0.8551  0.40004  \n",
       "in_log            4.9147e-02  2.3156e-02  2.1225  0.04312 *\n",
       "in_log_lag       -3.3586e-03  2.2359e-02 -0.1502  0.88171  \n",
       "outin_log         1.8348e-02  1.7772e-02  1.0324  0.31105  \n",
       "outin_log_lag     1.1191e-02  1.4938e-02  0.7492  0.46022  \n",
       "inout_log         1.1352e-02  1.3203e-02  0.8599  0.39743  \n",
       "inout_log_lag     6.3401e-03  1.5548e-02  0.4078  0.68665  \n",
       "log(real_prices) -2.4858e-02  1.6555e-02 -1.5015  0.14484  \n",
       "real_gdp_change   8.1639e-06  1.7127e-05  0.4767  0.63743  \n",
       "---\n",
       "Signif. codes:  0 ‘***’ 0.001 ‘**’ 0.01 ‘*’ 0.05 ‘.’ 0.1 ‘ ’ 1\n",
       "\n",
       "Total Sum of Squares:    0.47022\n",
       "Residual Sum of Squares: 0.31253\n",
       "R-Squared:      0.33536\n",
       "Adj. R-Squared: 0.13843\n",
       "F-statistic: 1.70296 on 8 and 27 DF, p-value: 0.14337"
      ]
     },
     "metadata": {},
     "output_type": "display_data"
    }
   ],
   "source": [
    "pool <- plm(gini~in_log+in_log_lag+outin_log+outin_log_lag+inout_log+inout_log_lag+log(real_prices)+real_gdp_change, data = df_ihh_part, model=\"pooling\")\n",
    "summary(pool)"
   ]
  },
  {
   "cell_type": "code",
   "execution_count": 97,
   "metadata": {},
   "outputs": [
    {
     "data": {
      "text/plain": [
       "\n",
       "\tLagrange Multiplier Test - (Breusch-Pagan) for unbalanced panels\n",
       "\n",
       "data:  gini ~ in_log + in_log_lag + outin_log + outin_log_lag + inout_log +  ...\n",
       "chisq = 43.004, df = 1, p-value = 5.463e-11\n",
       "alternative hypothesis: significant effects\n"
      ]
     },
     "metadata": {},
     "output_type": "display_data"
    }
   ],
   "source": [
    "plmtest(pool, type=c(\"bp\"))"
   ]
  },
  {
   "cell_type": "markdown",
   "metadata": {},
   "source": [
    "p-value < 2.2e-16  используем re модель"
   ]
  },
  {
   "cell_type": "code",
   "execution_count": 98,
   "metadata": {},
   "outputs": [],
   "source": [
    "# pcdtest(fixed, test = c(\"lm\"))"
   ]
  },
  {
   "cell_type": "code",
   "execution_count": 99,
   "metadata": {},
   "outputs": [
    {
     "name": "stderr",
     "output_type": "stream",
     "text": [
      "Warning message in pcdres(tres = tres, n = n, w = w, form = paste(deparse(x$formula)), :\n",
      "“Some pairs of individuals (38 percent) do not have any or just one time period in common and have been omitted from calculation”"
     ]
    },
    {
     "data": {
      "text/plain": [
       "\n",
       "\tPesaran CD test for cross-sectional dependence in panels\n",
       "\n",
       "data:  gini ~ in_log + in_log_lag + outin_log + outin_log_lag + inout_log +     inout_log_lag + log(real_prices) + real_gdp_change\n",
       "z = -1.0281, p-value = 0.3039\n",
       "alternative hypothesis: cross-sectional dependence\n"
      ]
     },
     "metadata": {},
     "output_type": "display_data"
    }
   ],
   "source": [
    "pcdtest(fixed, test = c(\"cd\"))"
   ]
  },
  {
   "cell_type": "markdown",
   "metadata": {},
   "source": [
    "p-value > 0.05 нет кросс-секциональной зависимости"
   ]
  },
  {
   "cell_type": "code",
   "execution_count": 100,
   "metadata": {},
   "outputs": [
    {
     "data": {
      "text/plain": [
       "\n",
       "\tBreusch-Godfrey/Wooldridge test for serial correlation in panel models\n",
       "\n",
       "data:  gini ~ in_log + in_log_lag + outin_log + outin_log_lag + inout_log +     inout_log_lag + log(real_prices) + real_gdp_change\n",
       "chisq = 0.78976, df = 1, p-value = 0.3742\n",
       "alternative hypothesis: serial correlation in idiosyncratic errors\n"
      ]
     },
     "metadata": {},
     "output_type": "display_data"
    }
   ],
   "source": [
    "pbgtest(fixed)"
   ]
  },
  {
   "cell_type": "markdown",
   "metadata": {},
   "source": [
    "Есть серийная корреляция"
   ]
  },
  {
   "cell_type": "code",
   "execution_count": 101,
   "metadata": {},
   "outputs": [
    {
     "name": "stderr",
     "output_type": "stream",
     "text": [
      "Loading required package: zoo\n",
      "\n",
      "Attaching package: ‘zoo’\n",
      "\n",
      "The following objects are masked from ‘package:base’:\n",
      "\n",
      "    as.Date, as.Date.numeric\n",
      "\n"
     ]
    }
   ],
   "source": [
    "library(lmtest) "
   ]
  },
  {
   "cell_type": "code",
   "execution_count": 102,
   "metadata": {},
   "outputs": [
    {
     "data": {
      "text/plain": [
       "\n",
       "\tBreusch-Pagan test\n",
       "\n",
       "data:  gini ~ in_log + in_log_lag + outin_log + outin_log_lag + inout_log +     inout_log_lag + log(real_prices) + real_gdp_change\n",
       "BP = 11.199, df = 8, p-value = 0.1907\n"
      ]
     },
     "metadata": {},
     "output_type": "display_data"
    }
   ],
   "source": [
    "bptest(gini~in_log+in_log_lag+outin_log+outin_log_lag+inout_log+inout_log_lag+log(real_prices)+real_gdp_change, data = df_ihh_part, studentize=F)"
   ]
  },
  {
   "cell_type": "markdown",
   "metadata": {},
   "source": [
    "Есть гетероскдастичность, необходимо использовать устойчивые к гетероскедастичности оценки ковариационной матрицы "
   ]
  },
  {
   "cell_type": "code",
   "execution_count": 104,
   "metadata": {},
   "outputs": [
    {
     "data": {
      "text/plain": [
       "\n",
       "t test of coefficients:\n",
       "\n",
       "                    Estimate  Std. Error t value Pr(>|t|)  \n",
       "in_log            2.9638e-03  4.2634e-03  0.6952  0.49634  \n",
       "in_log_lag       -4.2732e-03  4.5934e-03 -0.9303  0.36524  \n",
       "outin_log         4.1758e-03  2.6583e-03  1.5709  0.13463  \n",
       "outin_log_lag     5.3150e-03  2.4673e-03  2.1542  0.04586 *\n",
       "inout_log        -1.5575e-03  2.7563e-03 -0.5651  0.57941  \n",
       "inout_log_lag    -1.0805e-03  2.7338e-03 -0.3952  0.69760  \n",
       "log(real_prices)  1.5054e-04  5.4838e-03  0.0275  0.97842  \n",
       "real_gdp_change   1.6424e-06  2.4341e-06  0.6747  0.50893  \n",
       "---\n",
       "Signif. codes:  0 ‘***’ 0.001 ‘**’ 0.01 ‘*’ 0.05 ‘.’ 0.1 ‘ ’ 1\n"
      ]
     },
     "metadata": {},
     "output_type": "display_data"
    },
    {
     "data": {
      "text/plain": [
       "\n",
       "t test of coefficients:\n",
       "\n",
       "                    Estimate  Std. Error t value Pr(>|t|)  \n",
       "in_log            2.9638e-03  2.4217e-03  1.2238  0.23770  \n",
       "in_log_lag       -4.2732e-03  3.5697e-03 -1.1971  0.24771  \n",
       "outin_log         4.1758e-03  2.4594e-03  1.6979  0.10775  \n",
       "outin_log_lag     5.3150e-03  2.0684e-03  2.5696  0.01989 *\n",
       "inout_log        -1.5575e-03  1.6587e-03 -0.9390  0.36089  \n",
       "inout_log_lag    -1.0805e-03  3.0885e-03 -0.3498  0.73076  \n",
       "log(real_prices)  1.5054e-04  3.8564e-03  0.0390  0.96931  \n",
       "real_gdp_change   1.6424e-06  1.9493e-06  0.8425  0.41118  \n",
       "---\n",
       "Signif. codes:  0 ‘***’ 0.001 ‘**’ 0.01 ‘*’ 0.05 ‘.’ 0.1 ‘ ’ 1\n"
      ]
     },
     "metadata": {},
     "output_type": "display_data"
    },
    {
     "data": {
      "text/plain": [
       "\n",
       "t test of coefficients:\n",
       "\n",
       "                    Estimate  Std. Error t value Pr(>|t|)  \n",
       "in_log            2.9638e-03  2.7460e-03  1.0793  0.29552  \n",
       "in_log_lag       -4.2732e-03  4.0477e-03 -1.0557  0.30587  \n",
       "outin_log         4.1758e-03  2.7887e-03  1.4974  0.15262  \n",
       "outin_log_lag     5.3150e-03  2.3454e-03  2.2662  0.03678 *\n",
       "inout_log        -1.5575e-03  1.8808e-03 -0.8281  0.41908  \n",
       "inout_log_lag    -1.0805e-03  3.5021e-03 -0.3085  0.76144  \n",
       "log(real_prices)  1.5054e-04  4.3727e-03  0.0344  0.97294  \n",
       "real_gdp_change   1.6424e-06  2.2103e-06  0.7431  0.46760  \n",
       "---\n",
       "Signif. codes:  0 ‘***’ 0.001 ‘**’ 0.01 ‘*’ 0.05 ‘.’ 0.1 ‘ ’ 1\n"
      ]
     },
     "metadata": {},
     "output_type": "display_data"
    }
   ],
   "source": [
    "coeftest(fixed) \n",
    "\n",
    "coeftest(fixed, vcovHC) \n",
    "\n",
    "coeftest(fixed, vcovHC(fixed, type = \"HC1\")) "
   ]
  },
  {
   "cell_type": "code",
   "execution_count": 106,
   "metadata": {},
   "outputs": [
    {
     "data": {
      "text/plain": [
       "\n",
       "t test of coefficients:\n",
       "\n",
       "                    Estimate  Std. Error t value Pr(>|t|)  \n",
       "(Intercept)       3.9268e-01  1.5089e-01  2.6024  0.01485 *\n",
       "in_log            1.6217e-02  1.0894e-02  1.4885  0.14820  \n",
       "in_log_lag        5.6215e-03  1.0327e-02  0.5443  0.59069  \n",
       "outin_log         8.0192e-03  7.2948e-03  1.0993  0.28135  \n",
       "outin_log_lag     8.0306e-03  6.6881e-03  1.2007  0.24028  \n",
       "inout_log         5.8009e-03  6.4239e-03  0.9030  0.37450  \n",
       "inout_log_lag     4.0689e-03  6.6065e-03  0.6159  0.54312  \n",
       "log(real_prices) -1.1837e-02  1.2221e-02 -0.9686  0.34134  \n",
       "real_gdp_change   6.9185e-07  6.6305e-06  0.1043  0.91767  \n",
       "---\n",
       "Signif. codes:  0 ‘***’ 0.001 ‘**’ 0.01 ‘*’ 0.05 ‘.’ 0.1 ‘ ’ 1\n"
      ]
     },
     "metadata": {},
     "output_type": "display_data"
    },
    {
     "data": {
      "text/plain": [
       "\n",
       "t test of coefficients:\n",
       "\n",
       "                    Estimate  Std. Error t value  Pr(>|t|)    \n",
       "(Intercept)       3.9268e-01  1.2189e-01  3.2215  0.003315 ** \n",
       "in_log            1.6217e-02  2.2102e-03  7.3373 6.824e-08 ***\n",
       "in_log_lag        5.6215e-03  5.2874e-03  1.0632  0.297118    \n",
       "outin_log         8.0192e-03  2.4839e-03  3.2285  0.003258 ** \n",
       "outin_log_lag     8.0306e-03  2.5463e-03  3.1538  0.003928 ** \n",
       "inout_log         5.8009e-03  3.9493e-03  1.4688  0.153432    \n",
       "inout_log_lag     4.0689e-03  3.3174e-03  1.2265  0.230594    \n",
       "log(real_prices) -1.1837e-02  9.1430e-03 -1.2947  0.206397    \n",
       "real_gdp_change   6.9185e-07  2.2716e-06  0.3046  0.763036    \n",
       "---\n",
       "Signif. codes:  0 ‘***’ 0.001 ‘**’ 0.01 ‘*’ 0.05 ‘.’ 0.1 ‘ ’ 1\n"
      ]
     },
     "metadata": {},
     "output_type": "display_data"
    },
    {
     "data": {
      "text/plain": [
       "\n",
       "t test of coefficients:\n",
       "\n",
       "                    Estimate  Std. Error t value  Pr(>|t|)    \n",
       "in_log            1.6217e-02  2.7460e-03  5.9056 2.714e-06 ***\n",
       "in_log_lag        5.6215e-03  4.0477e-03  1.3888  0.176241    \n",
       "outin_log         8.0192e-03  2.7887e-03  2.8756  0.007776 ** \n",
       "outin_log_lag     8.0306e-03  2.3454e-03  3.4240  0.001985 ** \n",
       "inout_log         5.8009e-03  1.8808e-03  3.0843  0.004668 ** \n",
       "inout_log_lag     4.0689e-03  3.5021e-03  1.1619  0.255460    \n",
       "log(real_prices) -1.1837e-02  4.3727e-03 -2.7071  0.011627 *  \n",
       "real_gdp_change   6.9185e-07  2.2103e-06  0.3130  0.756676    \n",
       "---\n",
       "Signif. codes:  0 ‘***’ 0.001 ‘**’ 0.01 ‘*’ 0.05 ‘.’ 0.1 ‘ ’ 1\n"
      ]
     },
     "metadata": {},
     "output_type": "display_data"
    },
    {
     "data": {
      "text/plain": [
       "\n",
       "t test of coefficients:\n",
       "\n",
       "                    Estimate  Std. Error t value  Pr(>|t|)    \n",
       "in_log            1.6217e-02  3.1400e-03  5.1646 1.958e-05 ***\n",
       "in_log_lag        5.6215e-03  4.4561e-03  1.2615  0.217909    \n",
       "outin_log         8.0192e-03  3.0481e-03  2.6309  0.013899 *  \n",
       "outin_log_lag     8.0306e-03  2.3347e-03  3.4396  0.001907 ** \n",
       "inout_log         5.8009e-03  1.8527e-03  3.1311  0.004156 ** \n",
       "inout_log_lag     4.0689e-03  3.7163e-03  1.0949  0.283236    \n",
       "log(real_prices) -1.1837e-02  4.7296e-03 -2.5028  0.018676 *  \n",
       "real_gdp_change   6.9185e-07  2.1907e-06  0.3158  0.754574    \n",
       "---\n",
       "Signif. codes:  0 ‘***’ 0.001 ‘**’ 0.01 ‘*’ 0.05 ‘.’ 0.1 ‘ ’ 1\n"
      ]
     },
     "metadata": {},
     "output_type": "display_data"
    },
    {
     "data": {
      "text/plain": [
       "\n",
       "t test of coefficients:\n",
       "\n",
       "                    Estimate  Std. Error t value  Pr(>|t|)    \n",
       "in_log            1.6217e-02  4.1112e-03  3.9445 0.0005124 ***\n",
       "in_log_lag        5.6215e-03  5.6214e-03  1.0000 0.3261851    \n",
       "outin_log         8.0192e-03  3.7956e-03  2.1128 0.0440085 *  \n",
       "outin_log_lag     8.0306e-03  2.6452e-03  3.0359 0.0052606 ** \n",
       "inout_log         5.8009e-03  2.0747e-03  2.7961 0.0094129 ** \n",
       "inout_log_lag     4.0689e-03  4.5043e-03  0.9033 0.3743340    \n",
       "log(real_prices) -1.1837e-02  5.8461e-03 -2.0248 0.0528810 .  \n",
       "real_gdp_change   6.9185e-07  2.4768e-06  0.2793 0.7821147    \n",
       "---\n",
       "Signif. codes:  0 ‘***’ 0.001 ‘**’ 0.01 ‘*’ 0.05 ‘.’ 0.1 ‘ ’ 1\n"
      ]
     },
     "metadata": {},
     "output_type": "display_data"
    }
   ],
   "source": [
    "coeftest(random) \n",
    "coeftest(random, vcovHC) \n",
    "coeftest(random, vcovHC(fixed, type = \"HC1\")) \n",
    "coeftest(random, vcovHC(fixed, type = \"HC2\")) \n",
    "coeftest(random, vcovHC(fixed, type = \"HC3\")) "
   ]
  },
  {
   "cell_type": "markdown",
   "metadata": {},
   "source": [
    "HC3 – Recommended for small samples. HC3 gives less weight to influential observations."
   ]
  }
 ],
 "metadata": {
  "kernelspec": {
   "display_name": "R 3.5.1",
   "language": "R",
   "name": "ir"
  },
  "language_info": {
   "codemirror_mode": "r",
   "file_extension": ".r",
   "mimetype": "text/x-r-source",
   "name": "R",
   "pygments_lexer": "r",
   "version": "3.5.2"
  }
 },
 "nbformat": 4,
 "nbformat_minor": 2
}
