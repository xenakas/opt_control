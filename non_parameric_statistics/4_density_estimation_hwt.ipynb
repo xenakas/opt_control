{
 "cells": [
  {
   "cell_type": "markdown",
   "metadata": {},
   "source": [
    "### Theoretical part"
   ]
  },
  {
   "cell_type": "markdown",
   "metadata": {},
   "source": [
    "#### T1 Boxcar kernel\n",
    "\n",
    "$X_1 , ..., X_n \\sim p(x)$ \n",
    "\n",
    "$(\\hat{p})_n (x)$ - a kernel density estimator with the boxcar kernel:\n",
    "\n",
    "$$K(x) = \\mathbb{I}\\{x \\in [-1/2, 1/2]\\}$$"
   ]
  },
  {
   "cell_type": "markdown",
   "metadata": {},
   "source": [
    "##### (i) Mathematical expectation and the variance of  $\\hat{p}_n (x)$\n",
    "\n",
    "$\\hat{p}_n(x) = \\frac{1}{nh} \\sum_{i=1}^n \\mathbb{I} \\{ |x-x_i| < h*1/2\\} $\n",
    "\n",
    "$E(\\hat{p}_n(x)) = \\frac{1}{nh} \\sum_{i=1}^n E [\\mathbb{I} \\{ |x-x_i| < h/2\\} ]  = \\frac{1}{h}  E [\\mathbb{I} \\{ |x-X| < h/2 \\} ]  =   \\frac{1}{h}  P (|x-X| < h/2 )  = \\frac{1}{h} ( F_X(x+h/2)-F_X(x-h/2))$\n",
    "\n",
    "$Var(\\hat{p}_n(x)) = \\frac{1}{n^2h^2} \\sum_{i=1}^n Var [\\mathbb{I} \\{ |x-x_i| < h/2\\} ]  = \\frac{1}{nh^2}  Var [\\mathbb{I} \\{ |x-X| < h/2 \\} ]  =   \\frac{1}{nh^2} ( E [\\mathbb{I} \\{ |x-X| < h/2 \\} ]  - ( E [\\mathbb{I} \\{ |x-X| < h/2 \\} ] )^2)  =  \\frac{1}{nh^2} ( P (|x-X| < h/2 )   - (P (|x-X| < h/2 ) )^2) =  \n",
    "  \\frac{1}{nh^2} ( F_X(x+h/2)-F_X(x-h/2) - (F_X(x+h/2)-F_X(x-h/2))^2)$"
   ]
  },
  {
   "cell_type": "markdown",
   "metadata": {},
   "source": [
    "##### (ii) Prove that the estimate is consistent\n",
    "\n",
    "$\\text{plim}_{n \\to \\infty} \\hat{p}_n (x) = p_n (x), h \\to  0, nh \\to \\infty$\n",
    "\n",
    "$MSE(\\hat{p}_n (x))  =  Var(\\hat{p}_n (x)) + Bias(\\hat{p}_n (x))^2$\n",
    "\n",
    "$\\lim_{n \\to \\infty}  E(\\hat{p}_n(x)) =   \\lim_{h_n \\to 0} \\frac{1}{h} ( F_X(x+h/2)-F_X(x-h/2)) = p(x) \\Rightarrow Bias(\\hat{p}_n (x))^2 = 0$\n",
    "\n",
    "$\\lim_{n \\to \\infty}  Var(\\hat{p}_n(x)) = \\lim_{n \\to \\infty}  \\frac{1}{nh^2} ( F_X(x+h/2)-F_X(x-h/2) - (F_X(x+h/2)-F_X(x-h/2))^2)   = x)  = \\lim_{n \\to \\infty}  \\frac{p(x)}{nh}  = 0     \\Rightarrow \\lim_{n \\to \\infty} MSE(\\hat{p}_n (x))  = 0  \\Rightarrow consistency$\n"
   ]
  },
  {
   "cell_type": "markdown",
   "metadata": {},
   "source": [
    "#### T2  $p(x)$ - a function defined by (1)"
   ]
  },
  {
   "cell_type": "markdown",
   "metadata": {},
   "source": [
    "$$ p(x) = 1/2 \\phi^N (x) + 1/4 \\phi^E (x + 1) + 1/4 \\phi^E (-x + 1), x \\in \\mathbb{R}$$ \n",
    "\n",
    "where $\\phi^N \\sim N(0, 1)$, $\\phi^E \\sim Exp(1)$"
   ]
  },
  {
   "cell_type": "markdown",
   "metadata": {},
   "source": [
    "#####  (i) Explain why p(x) is the probability density function.\n",
    "\n",
    "1. $p(x)$ positively defined $\\forall x \\in \\mathbb{R}$\n",
    "\n",
    "2. $\\int_{-\\infty }^{\\infty } p(x)dx = \\frac{1}{2} * 1 +   \\frac{1}{4} * 1 + \\frac{1}{4} * 1= 1$\n",
    "\n"
   ]
  },
  {
   "cell_type": "markdown",
   "metadata": {},
   "source": [
    "##### (ii) Calculate mathematical expectation and variance of a random variable with this distribution.\n",
    "\n",
    "$E(X) = \\int_{-\\infty }^{\\infty } x  p(x)dx =  1/2 * 0 + 1/4 * 0 + 1/4 * 0 = 0$\n",
    "\n",
    "\n",
    "$Var(X) = \\int_{-\\infty }^{\\infty } x^2  p(x)dx =  1/2 * 1 + 1/4 * 1 + 1/4 * 1 = 1$\n"
   ]
  },
  {
   "cell_type": "markdown",
   "metadata": {},
   "source": [
    "#### T3 Assume that the data follow $N(0,\\sigma^2)$ "
   ]
  },
  {
   "cell_type": "markdown",
   "metadata": {},
   "source": [
    "##### (i) Calculate the optimal value of bandwidth of the histogram estimator\n",
    "\n",
    "Calculate the value which minimizes the AMISE of the\n",
    "histogram estimator:\n",
    "\n",
    "$bias^2(\\hat{p}_n(x)) =  1/4 * h^2 * \\int p'(x)^2 dx  + 1/3 * h^2 * \\int p'(x)^2 dx  - 1/2* h^2 *  \\int p'(x)^2 dx  + O(h^3)=    \\frac{h^2}{48 \\sqrt{\\pi } \\sigma^3}  + O(h^3) $\n",
    "\n",
    "$Var(\\hat{p}_n(x)) =  1/(nh) * \\int p(x)  + O(1/n) = 1/(nh) + O(1/n)$\n",
    "\n",
    "\n",
    "$\\text{arg}\\min_{h^*} AMISE(\\hat{p}_n(x)) =  \\left( \\frac{6}{n \\int p'(x)^2 dx} \\right)^{1/3} =  \\left( \\frac{6}{n * \\frac{1}{4 \\sqrt{\\pi } \\sigma^3}} \\right)^{1/3} =   2 \\sqrt[3]{3} \\sqrt[6]{\\pi } \\sqrt[3]{\\frac{\\sigma^3}{n}} =  3.49083 \\frac{\\sigma}{\\sqrt[3]{n}} $\n",
    "\n",
    "\n"
   ]
  },
  {
   "cell_type": "markdown",
   "metadata": {},
   "source": [
    "##### (ii) Calculate the optimal value of bandwidth of the kernel estimator based on the normal kernel\n",
    "\n",
    "$$ K(x) = \\frac{1}{\\sqrt{2 \\pi}} e^{-x^2/2}$$ \n",
    "\n",
    "\n",
    "\n",
    "$bias^2(\\hat{p}_n(x)) =  h^4/4 * (\\int u^2 K(u) du)^2 * \\int (p''(x)^2) * (1+o(1)) = \\frac{3h^4}{32 \\sqrt{\\pi } \\sigma^5} + O(h^5) $\n",
    "\n",
    "\n",
    "$Var(\\hat{p}_n(x)) =  1/(nh) * \\int K^2 (u) du (1+o(1)) = \\frac{1}{2\\sqrt{\\pi}nh} + O(1/n)$\n",
    "\n",
    "\n",
    "$\\text{arg}\\min_{h^*} AMISE(\\hat{p}_n(x)) =  \\left( \\frac{\\int K(u)^2 du }{n *  \\int K^2 (u) du * \\int (p''(x))^2 dx} \\right)^{1/5} =  \\sigma * \\left(  \\frac{4}{3n  } \\right)^{1/5} =  1.05922  \\frac{\\sigma}{\\sqrt[5]{n}} $\n",
    "\n"
   ]
  },
  {
   "cell_type": "markdown",
   "metadata": {},
   "source": [
    "##### (iii) Compare the results for the estimators:\n",
    "\n",
    "- For kernel estimator bias is smaller (if $\\sigma > 1$).\n",
    "\n",
    "- For kernel estimator variance is smaller therefore error converges at a faster rate than for histogram estimator.\n"
   ]
  },
  {
   "cell_type": "markdown",
   "metadata": {},
   "source": [
    "#### T4 Calculate the theoretical efficiencies \n",
    "\n",
    "\n",
    "$K_{ep}(x) = 3/4 (1-x^2) \\mathbb{I} \\{|x|<1\\}  $\n",
    "\n",
    "$K_{ep}^2(x) = 9/16 (1-x^2)^2 \\mathbb{I} \\{|x|<1\\}  $\n",
    "\n",
    "$\\int K_{ep}^2(x) dx  =  \\int_{-1}^1  9/16 * (1-x^2)^2  dx  = 3/5$\n",
    "\n",
    "$\\int x^2 K_{ep}(x) dx  =  \\int_{-1}^1  3/4 * x^2 * (1-x^2)  dx  = 1/5$\n",
    "\n",
    "\n",
    "$S(K_{ep}) = ((3/5)^2 * 1/5  )^{2/5} = 0.3491$"
   ]
  },
  {
   "cell_type": "code",
   "execution_count": 4,
   "metadata": {
    "ExecuteTime": {
     "end_time": "2020-02-10T09:26:03.889542Z",
     "start_time": "2020-02-10T09:26:03.868Z"
    }
   },
   "outputs": [
    {
     "data": {
      "text/html": [
       "0.349086455491613"
      ],
      "text/latex": [
       "0.349086455491613"
      ],
      "text/markdown": [
       "0.349086455491613"
      ],
      "text/plain": [
       "[1] 0.3490865"
      ]
     },
     "metadata": {},
     "output_type": "display_data"
    }
   ],
   "source": [
    "((3/5)^2 * 1/5)^(2/5)"
   ]
  },
  {
   "cell_type": "markdown",
   "metadata": {},
   "source": [
    "##### (i) the boxcar kernel;\n",
    "\n",
    "$ K(x) = 1/2 * \\mathbb{I} \\{|x|<1\\} $\n",
    "\n",
    "$ K^2_b (x) = 1/4 * \\mathbb{I} \\{|x|<1\\} $\n",
    "\n",
    "$\\int K_{b}^2(x) dx  =  \\int_{-1}^1  1/4  dx  = 1/2$\n",
    "\n",
    "$\\int x^2 K_{b}(x) dx  =  \\int_{-1}^1  1/2 * x^2  dx  = 1/3$\n",
    "\n",
    "\n",
    "$s(K_{b}) = ((1/2)^2 * 1/3  )^{2/5} = 0.3701$\n",
    "\n",
    "$$Eff(K_b) =\\left(\\frac{S(K_{ep})}{S(K_{b})}\\right)^{5/4} =  0.929516$$"
   ]
  },
  {
   "cell_type": "code",
   "execution_count": 7,
   "metadata": {
    "ExecuteTime": {
     "end_time": "2020-02-10T09:30:17.265397Z",
     "start_time": "2020-02-10T09:30:17.225Z"
    }
   },
   "outputs": [
    {
     "data": {
      "text/html": [
       "0.92951600308978"
      ],
      "text/latex": [
       "0.92951600308978"
      ],
      "text/markdown": [
       "0.92951600308978"
      ],
      "text/plain": [
       "[1] 0.929516"
      ]
     },
     "metadata": {},
     "output_type": "display_data"
    }
   ],
   "source": [
    "((((3/5)^2 * 1/5)^(2/5))/(((1/2)^2 * 1/3)^(2/5)))^(5/4)"
   ]
  },
  {
   "cell_type": "markdown",
   "metadata": {},
   "source": [
    "##### (ii) the Gaussian kernel.\n",
    "\n",
    "$ K(x) = \\frac{1}{\\sqrt{2 \\pi}} e^{-x^2/2}$ \n",
    "\n",
    "$ K^2_g (x) = \\frac{1}{2 \\pi} e^{-x^2}$\n",
    "\n",
    "$\\int K_{g}^2(x) dx  =  \\int_{-\\infty}^{\\infty} \\frac{1}{2 \\pi} e^{-x^2} dx  = \\frac{1}{2 \\sqrt{\\pi}} $\n",
    "\n",
    "$\\int x^2 K_{g}(x) dx  =  \\int_{-\\infty}^{\\infty}   x^2 * \\frac{1}{\\sqrt{2 \\pi}} e^{-x^2/2}  dx  = 1$\n",
    "\n",
    "\n",
    "$s(K_{g}) = (\\frac{1}{2 \\sqrt{\\pi}} )^{4/5} = 0.363342$\n",
    "\n",
    "$$Eff(K_g) =\\left(\\frac{S(K_{ep})}{S(K_{g})}\\right)^{5/4} =  0.951198$$\n"
   ]
  },
  {
   "cell_type": "code",
   "execution_count": 10,
   "metadata": {
    "ExecuteTime": {
     "end_time": "2020-02-10T09:38:13.021779Z",
     "start_time": "2020-02-10T09:38:12.977Z"
    }
   },
   "outputs": [
    {
     "data": {
      "text/html": [
       "0.951198551425443"
      ],
      "text/latex": [
       "0.951198551425443"
      ],
      "text/markdown": [
       "0.951198551425443"
      ],
      "text/plain": [
       "[1] 0.9511986"
      ]
     },
     "metadata": {},
     "output_type": "display_data"
    }
   ],
   "source": [
    "((((3/5)^2 * 1/5)^(2/5) )/ ((1/(2 * sqrt(pi)))^(4/5)))^(5/4)"
   ]
  },
  {
   "cell_type": "code",
   "execution_count": 8,
   "metadata": {
    "ExecuteTime": {
     "end_time": "2020-02-10T09:36:07.630285Z",
     "start_time": "2020-02-10T09:36:07.591Z"
    }
   },
   "outputs": [
    {
     "data": {
      "text/html": [
       "3.14159265358979"
      ],
      "text/latex": [
       "3.14159265358979"
      ],
      "text/markdown": [
       "3.14159265358979"
      ],
      "text/plain": [
       "[1] 3.141593"
      ]
     },
     "metadata": {},
     "output_type": "display_data"
    }
   ],
   "source": [
    "pi"
   ]
  },
  {
   "cell_type": "code",
   "execution_count": null,
   "metadata": {},
   "outputs": [],
   "source": []
  }
 ],
 "metadata": {
  "hide_input": false,
  "kernelspec": {
   "display_name": "R 3.5.1",
   "language": "R",
   "name": "ir"
  },
  "language_info": {
   "codemirror_mode": "r",
   "file_extension": ".r",
   "mimetype": "text/x-r-source",
   "name": "R",
   "pygments_lexer": "r",
   "version": "3.6.1"
  },
  "latex_envs": {
   "LaTeX_envs_menu_present": true,
   "autoclose": true,
   "autocomplete": true,
   "bibliofile": "biblio.bib",
   "cite_by": "apalike",
   "current_citInitial": 1,
   "eqLabelWithNumbers": true,
   "eqNumInitial": 1,
   "hotkeys": {
    "equation": "Ctrl-E",
    "itemize": "Ctrl-I"
   },
   "labels_anchors": false,
   "latex_user_defs": false,
   "report_style_numbering": false,
   "user_envs_cfg": false
  },
  "toc": {
   "base_numbering": 1,
   "nav_menu": {},
   "number_sections": true,
   "sideBar": true,
   "skip_h1_title": false,
   "title_cell": "Table of Contents",
   "title_sidebar": "Contents",
   "toc_cell": false,
   "toc_position": {},
   "toc_section_display": true,
   "toc_window_display": false
  },
  "varInspector": {
   "cols": {
    "lenName": 16,
    "lenType": 16,
    "lenVar": 40
   },
   "kernels_config": {
    "python": {
     "delete_cmd_postfix": "",
     "delete_cmd_prefix": "del ",
     "library": "var_list.py",
     "varRefreshCmd": "print(var_dic_list())"
    },
    "r": {
     "delete_cmd_postfix": ") ",
     "delete_cmd_prefix": "rm(",
     "library": "var_list.r",
     "varRefreshCmd": "cat(var_dic_list()) "
    }
   },
   "types_to_exclude": [
    "module",
    "function",
    "builtin_function_or_method",
    "instance",
    "_Feature"
   ],
   "window_display": false
  }
 },
 "nbformat": 4,
 "nbformat_minor": 2
}
